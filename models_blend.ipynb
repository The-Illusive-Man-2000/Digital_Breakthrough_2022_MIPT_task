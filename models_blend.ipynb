{
  "cells": [
    {
      "cell_type": "code",
      "execution_count": 1,
      "id": "73d6bf79",
      "metadata": {
        "id": "73d6bf79"
      },
      "outputs": [],
      "source": [
        "# Общие библиотеки\n",
        "import pandas as pd\n",
        "import numpy as np\n",
        "import glob\n",
        "from tqdm import tqdm\n",
        "import os\n",
        "from sklearn.model_selection import train_test_split\n",
        "import json\n",
        "from math import sin, cos\n",
        "\n",
        "# Для создания и обучения модели\n",
        "import torch\n",
        "import torch.nn as nn\n",
        "import torch.optim as optim\n",
        "from torch.utils.data import Dataset\n",
        "from torchvision import datasets, models, transforms\n",
        "\n",
        "# Для работы с изображениями\n",
        "import cv2\n",
        "from PIL import Image\n",
        "\n",
        "# Для визуализации\n",
        "import matplotlib.pyplot as plt\n",
        "from IPython.display import clear_output"
      ]
    },
    {
      "cell_type": "code",
      "execution_count": 2,
      "id": "bd1c20ea",
      "metadata": {
        "colab": {
          "base_uri": "https://localhost:8080/"
        },
        "id": "bd1c20ea",
        "outputId": "4cfc6e4d-4685-419d-f4d3-030233cad557"
      },
      "outputs": [
        {
          "output_type": "stream",
          "name": "stdout",
          "text": [
            "Mounted at /content/drive\n"
          ]
        }
      ],
      "source": [
        "from google.colab import drive\n",
        "drive.mount('/content/drive')"
      ]
    },
    {
      "cell_type": "code",
      "source": [
        "path_to_model_weights1 = \"drive/MyDrive/Colab Notebooks/db2022/content/model/model_1_alld.pth\"\n",
        "path_to_model_weights2 = \"drive/MyDrive/Colab Notebooks/db2022/content/model/model_2_alld.pth\""
      ],
      "metadata": {
        "id": "g2i04ZRB2cSS"
      },
      "id": "g2i04ZRB2cSS",
      "execution_count": 3,
      "outputs": []
    },
    {
      "cell_type": "code",
      "execution_count": 4,
      "id": "cc6e332c",
      "metadata": {
        "id": "cc6e332c"
      },
      "outputs": [],
      "source": [
        "class ImageDataset(Dataset):\n",
        "    def __init__(self, data_df, transform=None):\n",
        "\n",
        "        self.data_df = data_df\n",
        "        self.transform = transform\n",
        "\n",
        "    def __getitem__(self, idx):\n",
        "        # достаем имя изображения и ее лейбл\n",
        "        image_name, labels = self.data_df.iloc[idx]['id'], [self.data_df.iloc[idx]['left_top_x']/10496, \n",
        "                                                            self.data_df.iloc[idx]['left_top_y']/10496, \n",
        "                                                            self.data_df.iloc[idx]['right_bottom_x']/10496, \n",
        "                                                            self.data_df.iloc[idx]['right_bottom_y']/10496, \n",
        "                                                            self.data_df.iloc[idx]['angle']/360]\n",
        "\n",
        "        #print(image_name)  \n",
        "        # читаем картинку. read the image\n",
        "        image = cv2.imread(f\"drive/MyDrive/Colab Notebooks/db2022/content/train/{image_name}\")\n",
        "        image = cv2.cvtColor(image, cv2.COLOR_BGR2RGB)\n",
        "        image = Image.fromarray(image)\n",
        "        \n",
        "        # преобразуем, если нужно. transform it, if necessary\n",
        "        if self.transform:\n",
        "            image = self.transform(image)\n",
        "        \n",
        "        return image, torch.tensor(labels).float()\n",
        "    \n",
        "    def __len__(self):\n",
        "        return len(self.data_df)"
      ]
    },
    {
      "cell_type": "code",
      "execution_count": 5,
      "id": "67c3de62",
      "metadata": {
        "id": "67c3de62"
      },
      "outputs": [],
      "source": [
        "train_transform = transforms.Compose([\n",
        "    transforms.RandomResizedCrop(224),\n",
        "    transforms.ToTensor(),\n",
        "    transforms.Normalize(mean=[0.485, 0.456, 0.406],\n",
        "                          std=[0.229, 0.224, 0.225]),\n",
        "])\n",
        "\n",
        "valid_transform = transforms.Compose([\n",
        "    transforms.RandomResizedCrop(224),\n",
        "    transforms.ToTensor(),\n",
        "    transforms.Normalize(mean=[0.485, 0.456, 0.406],\n",
        "                          std=[0.229, 0.224, 0.225]),\n",
        "])"
      ]
    },
    {
      "cell_type": "code",
      "execution_count": 6,
      "id": "83e03a69",
      "metadata": {
        "colab": {
          "base_uri": "https://localhost:8080/"
        },
        "id": "83e03a69",
        "outputId": "6bb00623-e037-4afe-a3f4-2abf1d3749cb"
      },
      "outputs": [
        {
          "output_type": "stream",
          "name": "stdout",
          "text": [
            "Обучающей выборки  800\n",
            "Тестовой выборки  400\n"
          ]
        }
      ],
      "source": [
        "from os import listdir\n",
        "\n",
        "print(\"Обучающей выборки \" ,len(listdir(\"drive/MyDrive/Colab Notebooks/db2022/content/train\")))\n",
        "print(\"Тестовой выборки \" ,len(listdir(\"drive/MyDrive/Colab Notebooks/db2022/content/test\")))\n",
        "\n",
        "#Обучающей выборки 800\n",
        "#Тестовой выборки 400"
      ]
    },
    {
      "cell_type": "code",
      "execution_count": 7,
      "id": "f6e55bdf",
      "metadata": {
        "id": "f6e55bdf"
      },
      "outputs": [],
      "source": [
        "# разделим датасет на трейн и валидацию, чтобы смотреть на качество\n",
        "#train_df, valid_df = train_test_split(data_df, test_size=0.2, random_state=43)"
      ]
    },
    {
      "cell_type": "code",
      "execution_count": 8,
      "id": "2c7bce2f",
      "metadata": {
        "id": "2c7bce2f"
      },
      "outputs": [],
      "source": [
        "#train_dataset = ImageDataset(train_df, train_transform)\n",
        "#valid_dataset = ImageDataset(valid_df, valid_transform)"
      ]
    },
    {
      "cell_type": "code",
      "source": [
        "batch_size= 16"
      ],
      "metadata": {
        "id": "rpIdRrnrUEHd"
      },
      "id": "rpIdRrnrUEHd",
      "execution_count": 9,
      "outputs": []
    },
    {
      "cell_type": "code",
      "execution_count": 10,
      "id": "66956fec",
      "metadata": {
        "id": "66956fec"
      },
      "outputs": [],
      "source": [
        "#train_loader = torch.utils.data.DataLoader(dataset=train_dataset,\n",
        "#                                           batch_size= batch_size,\n",
        "#                                           shuffle=True,\n",
        "#                                           pin_memory=True,\n",
        "#                                           num_workers=2)\n",
        "\n",
        "#valid_loader = torch.utils.data.DataLoader(dataset=valid_dataset,\n",
        "#                                           batch_size= batch_size,\n",
        "#                                           # shuffle=True,\n",
        "#                                           pin_memory=True,\n",
        "#                                           num_workers=2)"
      ]
    },
    {
      "cell_type": "code",
      "execution_count": 11,
      "id": "ffa281e7",
      "metadata": {
        "id": "ffa281e7"
      },
      "outputs": [],
      "source": [
        "def compute_metric(data_true, data_pred, outImageW = 10496, outImageH = 10496):\n",
        "\n",
        "    x_center_true = np.array((data_true[0] + data_true[2])/2).astype(int)\n",
        "    y_center_true = np.array((data_true[1] + data_true[3])/2).astype(int)\n",
        "\n",
        "    x_metr = x_center_true - np.array((data_pred[0] + data_pred[2])/2).astype(int)\n",
        "    y_metr = y_center_true - np.array((data_pred[1] + data_pred[3])/2).astype(int)\n",
        "\n",
        "    metr =  1 - 0.7 * (abs(x_metr)/outImageH + abs(y_metr)/outImageW)/2 + 0.3 *abs(data_pred[4] - data_true[4])/359\n",
        "    return metr"
      ]
    },
    {
      "cell_type": "code",
      "execution_count": 12,
      "id": "f3504d36",
      "metadata": {
        "id": "f3504d36"
      },
      "outputs": [],
      "source": [
        "def plot_history(train_history, val_history, title='loss'):\n",
        "    plt.figure()\n",
        "    plt.title('{}'.format(title))\n",
        "    plt.plot(train_history, label='train', zorder=1)\n",
        "    \n",
        "    points = np.array(val_history)\n",
        "    steps = list(range(0, len(train_history) + 1, int(len(train_history) / len(val_history))))[1:]\n",
        "    \n",
        "    plt.scatter(steps, val_history, marker='+', s=180, c='orange', label='val', zorder=2)\n",
        "    plt.xlabel('train steps')\n",
        "    \n",
        "    plt.legend(loc='best')\n",
        "    plt.grid()\n",
        "\n",
        "    plt.show()"
      ]
    },
    {
      "cell_type": "code",
      "execution_count": 13,
      "id": "e9b1d333",
      "metadata": {
        "id": "e9b1d333"
      },
      "outputs": [],
      "source": [
        "def train(res_model, criterion, optimizer, train_dataloader, test_dataloader, NUM_EPOCH, lr_scheduler):\n",
        "    train_loss_log = []\n",
        "    val_loss_log = []\n",
        "    \n",
        "    train_acc_log = []\n",
        "    val_acc_log = []\n",
        "    \n",
        "    for epoch in tqdm(range(NUM_EPOCH)):\n",
        "        model.train()\n",
        "        train_loss = 0.\n",
        "        train_size = 0\n",
        "        \n",
        "        train_pred = []\n",
        "\n",
        "        for imgs, labels in train_dataloader:\n",
        "            optimizer.zero_grad()\n",
        "\n",
        "            imgs = imgs.cuda()\n",
        "            labels = labels.cuda()\n",
        "\n",
        "            y_pred = model(imgs)\n",
        "\n",
        "            loss = criterion(y_pred, labels)\n",
        "            loss.backward()\n",
        "            \n",
        "            train_loss += loss.item()\n",
        "            train_size += y_pred.size(0)\n",
        "            train_loss_log.append((loss.data.cpu().detach().numpy() / y_pred.size(0)) * 100)\n",
        "            \n",
        "            y_pred[:, :4] = y_pred[:, :4] * 10496\n",
        "            y_pred[:, -1] = y_pred[:, -1] * 360\n",
        "\n",
        "            labels[:, :4] = labels[:, :4] * 10496\n",
        "            labels[:, -1] = labels[:, -1] * 360\n",
        "\n",
        "            for label, pr in zip(labels, y_pred):\n",
        "                    train_pred.append(compute_metric(label.cpu().detach().numpy(), pr.cpu().detach().numpy()))\n",
        "\n",
        "            optimizer.step()\n",
        "\n",
        "        train_acc_log.append(train_pred)\n",
        "\n",
        "        epoch_train_loss = (train_loss / train_size)*100\n",
        "        torch.save({\n",
        "            'epoch': epoch,\n",
        "            'model_state_dict': model.state_dict(),\n",
        "            'optimizer_state_dict': optimizer.state_dict(),\n",
        "            'loss': epoch_train_loss\n",
        "            }, path_to_model_weights)\n",
        "\n",
        "\n",
        "\n",
        "        val_loss = 0.\n",
        "        val_size = 0\n",
        "        \n",
        "        val_pred = []\n",
        "        \n",
        "        lr_scheduler.step()\n",
        "\n",
        "\n",
        "        model.eval()\n",
        "        \n",
        "        with torch.no_grad():\n",
        "            for imgs, labels in test_dataloader:\n",
        "                \n",
        "                imgs = imgs.cuda()\n",
        "                labels = labels.cuda()\n",
        "                \n",
        "                pred = model(imgs)\n",
        "                loss = criterion(pred, labels)\n",
        "\n",
        "                pred[:, :4] = pred[:, :4] * 10496\n",
        "                pred[:, -1] = pred[:, -1] * 360\n",
        "\n",
        "                labels[:, :4] = labels[:, :4] * 10496\n",
        "                labels[:, -1] = labels[:, -1] * 360\n",
        "                \n",
        "                val_loss += loss.item()\n",
        "                val_size += pred.size(0)\n",
        "\n",
        "                for label, pr in zip(labels, pred):\n",
        "                    val_pred.append(compute_metric(label.cpu().detach().numpy(), pr.cpu().detach().numpy()))\n",
        "\n",
        "        val_loss_log.append((val_loss / val_size)*100)\n",
        "        val_acc_log.append(val_pred)\n",
        "\n",
        "        clear_output()\n",
        "        plot_history(train_loss_log, val_loss_log, 'loss')\n",
        "        \n",
        "\n",
        "\n",
        "        print('Train loss:', (train_loss / train_size)*100)\n",
        "        print('Val loss:', (val_loss / val_size)*100)\n",
        "        print('Train metric:', (np.mean(train_pred)))\n",
        "        print('Val metric:', (np.mean(val_pred)))\n",
        "        \n",
        "    return train_loss_log, train_acc_log, val_loss_log, val_acc_log"
      ]
    },
    {
      "cell_type": "code",
      "execution_count": 14,
      "id": "ce1c5422",
      "metadata": {
        "colab": {
          "base_uri": "https://localhost:8080/",
          "height": 240,
          "referenced_widgets": [
            "dd0e16db03e24e49a3d9fcf63a9c4ed2",
            "1e9a4dea5c284b7f86828f50d4049e7f",
            "52c763efcf9b45e8b0476f7055e1b5d2",
            "ce99a64fcdb642fe9990e3dd8158d8a5",
            "8185176a8f9749e09b3cecc8e3db4cfd",
            "55ae1deeddf84920bab5acf42451e150",
            "36bb074a34a34c62838ea1e078722ebf",
            "ebaf54c45f094775bc93a52b09b4c695",
            "7a58edc1cf5349a2ae9814112fad57eb",
            "0ef7aa6770c34b8c96532f5e556d2279",
            "eaff2539871246bebf7d72d3340b7cb6",
            "63a8ef02157f4595ab5e453dec864594",
            "ad6126c9352149e3827cec4a658c19d3",
            "eb3eb5cbc42e467ca973cdaa63a5716e",
            "d98531fbed6647ebbfd2e0d555e75213",
            "9f28047971ff4d95af18efe8995d0f0c",
            "bcea98a132334efe8ae66a69219b9b55",
            "c2548dd026b14329a41ab1a08183ae11",
            "27f2a4d252ca441180efeeb931761833",
            "f9f3b5f1eb7a4f938374e006d7d66aa1",
            "b258d00070884e06bd2a1ddaa6d4d447",
            "bb1b241511934bff8f0b61b82cff25d4"
          ]
        },
        "id": "ce1c5422",
        "outputId": "0596e5ad-1699-4536-f348-111e32102a41"
      },
      "outputs": [
        {
          "output_type": "stream",
          "name": "stderr",
          "text": [
            "/usr/local/lib/python3.7/dist-packages/torchvision/models/_utils.py:209: UserWarning: The parameter 'pretrained' is deprecated since 0.13 and will be removed in 0.15, please use 'weights' instead.\n",
            "  f\"The parameter '{pretrained_param}' is deprecated since 0.13 and will be removed in 0.15, \"\n",
            "/usr/local/lib/python3.7/dist-packages/torchvision/models/_utils.py:223: UserWarning: Arguments other than a weight enum or `None` for 'weights' are deprecated since 0.13 and will be removed in 0.15. The current behavior is equivalent to passing `weights=ResNet101_Weights.IMAGENET1K_V1`. You can also use `weights=ResNet101_Weights.DEFAULT` to get the most up-to-date weights.\n",
            "  warnings.warn(msg)\n",
            "Downloading: \"https://download.pytorch.org/models/resnet101-63fe2227.pth\" to /root/.cache/torch/hub/checkpoints/resnet101-63fe2227.pth\n"
          ]
        },
        {
          "output_type": "display_data",
          "data": {
            "text/plain": [
              "  0%|          | 0.00/171M [00:00<?, ?B/s]"
            ],
            "application/vnd.jupyter.widget-view+json": {
              "version_major": 2,
              "version_minor": 0,
              "model_id": "dd0e16db03e24e49a3d9fcf63a9c4ed2"
            }
          },
          "metadata": {}
        },
        {
          "output_type": "stream",
          "name": "stderr",
          "text": [
            "/usr/local/lib/python3.7/dist-packages/torchvision/models/_utils.py:223: UserWarning: Arguments other than a weight enum or `None` for 'weights' are deprecated since 0.13 and will be removed in 0.15. The current behavior is equivalent to passing `weights=ResNeXt50_32X4D_Weights.IMAGENET1K_V1`. You can also use `weights=ResNeXt50_32X4D_Weights.DEFAULT` to get the most up-to-date weights.\n",
            "  warnings.warn(msg)\n",
            "Downloading: \"https://download.pytorch.org/models/resnext50_32x4d-7cdf4587.pth\" to /root/.cache/torch/hub/checkpoints/resnext50_32x4d-7cdf4587.pth\n"
          ]
        },
        {
          "output_type": "display_data",
          "data": {
            "text/plain": [
              "  0%|          | 0.00/95.8M [00:00<?, ?B/s]"
            ],
            "application/vnd.jupyter.widget-view+json": {
              "version_major": 2,
              "version_minor": 0,
              "model_id": "63a8ef02157f4595ab5e453dec864594"
            }
          },
          "metadata": {}
        }
      ],
      "source": [
        "torch.cuda.empty_cache()\n",
        "\n",
        "# Подргружаем модель\n",
        "\n",
        "#model = models.resnet50(pretrained=True)\n",
        "#model = models.resnet152(pretrained=True)\n",
        "#model = models.wide_resnet50_2(pretrained=True)\n",
        "#model = models.wide_resnet101_2(pretrained=True)\n",
        "#model = models.resnet101(pretrained=True)\n",
        "\n",
        "\n",
        "#model = models.resnet101(pretrained=True)\n",
        "\n",
        "#model = models.googlenet(pretrained=True)    не запускается  RuntimeError: mat1 and mat2 shapes cannot be multiplied (16x1024 and 2048x5)\n",
        "#model =  models.inception_v3(pretrained=True) не запускается Calculated padded input size per channel: (3 x 3). Kernel size: (5 x 5). Kernel size can't be greater than actual input size\n",
        "#model = models.densenet161(pretrained=True)  не запускается RuntimeError: The size of tensor a (1000) must match the size of tensor b (5) at non-singleton dimension 1\n",
        "#model = models.squeezenet1_0(pretrained=True) не запускается RuntimeError: The size of tensor a (1000) must match the size of tensor b (5) at non-singleton dimension 1\n",
        "#model = models.shufflenet_v2_x1_0(pretrained=True) не запускается  RuntimeError: mat1 and mat2 shapes cannot be multiplied (16x1024 and 2048x5)\n",
        "#model = models.mobilenet_v2(pretrained=True) не запускается RuntimeError: The size of tensor a (1000) must match the size of tensor b (5) at non-singleton dimension 1\n",
        "#model = models.mnasnet1_0(pretrained=True) не запускается RuntimeError: The size of tensor a (1000) must match the size of tensor b (5) at non-singleton dimension 1\n",
        "#model = models.vgg16(pretrained=True) не запускаются RuntimeError: The size of tensor a (1000) must match the size of tensor b (5) at non-singleton dimension 1\n",
        "#model = models.resnet18(pretrained=True) не запускается \n",
        "\n",
        "\n",
        "\n",
        "model_1 = models.resnet101(pretrained=True)\n",
        "model_1.fc = nn.Linear(2048, 5)\n",
        "#model_1 = model_1.cuda()\n",
        "\n",
        "\n",
        "\n",
        "\n",
        "\n",
        "model_2 = models.resnext50_32x4d(pretrained=True)\n",
        "model_2.fc = nn.Linear(2048, 5)\n",
        "#model_2 = model_2.cuda()\n",
        "\n",
        "\n",
        "#model.fc = nn.Linear(2048, 5)\n",
        "#model = model.cuda()\n",
        "\n",
        "#criterion =  nn.SmoothL1Loss()\n",
        "\n",
        "#optimizer = torch.optim.Adam(model.fc.parameters(), lr=0.001)\n",
        "\n",
        "#lr_scheduler = torch.optim.lr_scheduler.StepLR(optimizer, step_size=2, gamma=0.9, verbose=True)"
      ]
    },
    {
      "cell_type": "code",
      "source": [
        "checkpoint_1 = torch.load(path_to_model_weights1, map_location=torch.device('cpu'))\n",
        "model_1.load_state_dict(checkpoint_1['model_state_dict'])\n",
        "#model_1.to(device)\n",
        "\n",
        "checkpoint_2 = torch.load(path_to_model_weights2, map_location=torch.device('cpu'))\n",
        "model_2.load_state_dict(checkpoint_2['model_state_dict'])\n",
        "#model_2.to(device)"
      ],
      "metadata": {
        "colab": {
          "base_uri": "https://localhost:8080/"
        },
        "id": "VX1PG_WQA_WE",
        "outputId": "8964ef99-ef02-435f-c9d5-2cb90001ed19"
      },
      "id": "VX1PG_WQA_WE",
      "execution_count": 15,
      "outputs": [
        {
          "output_type": "execute_result",
          "data": {
            "text/plain": [
              "<All keys matched successfully>"
            ]
          },
          "metadata": {},
          "execution_count": 15
        }
      ]
    },
    {
      "cell_type": "code",
      "execution_count": 16,
      "id": "a50d13b0",
      "metadata": {
        "id": "a50d13b0"
      },
      "outputs": [],
      "source": [
        "class TestImageDataset(Dataset):\n",
        "    def __init__(self, files, transform=None):\n",
        "\n",
        "        self.files = files\n",
        "        self.transform = transform\n",
        "\n",
        "    def __getitem__(self, idx):\n",
        "\n",
        "        image_name = self.files[idx]\n",
        "\n",
        "        # читаем картинку. read the image\n",
        "        image = cv2.imread(f\"drive/MyDrive/Colab Notebooks/db2022/content/test/{image_name}\")\n",
        "        image = cv2.cvtColor(image, cv2.COLOR_BGR2RGB)\n",
        "        image = Image.fromarray(image)\n",
        "        \n",
        "        # преобразуем, если нужно. transform it, if necessary\n",
        "        if self.transform:\n",
        "            image = self.transform(image)\n",
        "        \n",
        "        return image\n",
        "    \n",
        "    def __len__(self):\n",
        "        return len(self.files)"
      ]
    },
    {
      "cell_type": "code",
      "execution_count": 17,
      "id": "cf722bf0",
      "metadata": {
        "id": "cf722bf0"
      },
      "outputs": [],
      "source": [
        "test_images_dir = 'drive/MyDrive/Colab Notebooks/db2022/content/test/'\n",
        "\n",
        "for _, _, test_files in os.walk(test_images_dir):\n",
        "    \n",
        "    break\n",
        "\n",
        "test_dataset = TestImageDataset(test_files, valid_transform)\n",
        "\n",
        "test_loader = torch.utils.data.DataLoader(dataset=test_dataset,\n",
        "                                           batch_size= batch_size,\n",
        "                                           shuffle=True,\n",
        "                                           pin_memory=True,\n",
        "                                           num_workers=2\n",
        "                                           )"
      ]
    },
    {
      "cell_type": "code",
      "execution_count": 18,
      "id": "021b6d18",
      "metadata": {
        "id": "021b6d18"
      },
      "outputs": [],
      "source": [
        "indexes = [x.split('.')[0] for x in test_files]\n",
        "preds_1 = []\n",
        "preds_2 = []\n",
        "\n",
        "for imgs in test_loader:\n",
        "    #imgs = imgs.cuda()            \n",
        "    pred_1 = model_1(imgs)\n",
        "    pred_1 = pred_1.cpu().detach().numpy()\n",
        "    pred_1[:, :4] = np.clip(pred_1[:, :4] * 10496, 0, 10496)\n",
        "    pred_1[:, -1] = np.clip(pred_1[:, -1] * 360, 0, 360)\n",
        "    preds_1.extend(list(pred_1))\n",
        "\n",
        "\n",
        "    pred_2 = model_2(imgs)\n",
        "    pred_2 = pred_2.cpu().detach().numpy()\n",
        "    pred_2[:, :4] = np.clip(pred_2[:, :4] * 10496, 0, 10496)\n",
        "    pred_2[:, -1] = np.clip(pred_2[:, -1] * 360, 0, 360)\n",
        "    preds_2.extend(list(pred_2))\n",
        "\n",
        "preds = []\n",
        "\n",
        "for i in range(len(preds_1)):\n",
        "  preds.append([ (preds_1[i][0]+preds_2[i][0])/2, (preds_1[i][1]+preds_2[i][1])/2, (preds_1[i][2]+preds_2[i][2])/2, (preds_1[i][3]+preds_2[i][3])/2, (preds_1[i][4]+preds_2[i][4])/2  ])"
      ]
    },
    {
      "cell_type": "code",
      "execution_count": 19,
      "id": "c6af7a80",
      "metadata": {
        "id": "c6af7a80"
      },
      "outputs": [],
      "source": [
        "sub_dir = \"drive/MyDrive/Colab Notebooks/db2022/content/submission_blend_all_d/\"\n",
        "if not os.path.exists(sub_dir):\n",
        "    os.makedirs(sub_dir)\n",
        "\n",
        "json_true = []\n",
        "\n",
        "for indx, pred in zip(indexes, preds):\n",
        "\n",
        "    pred = [int(x) for x in pred]\n",
        "\n",
        "    left_top = [pred[0], pred[1]]\n",
        "    right_top = [pred[2], pred[1]]\n",
        "    left_bottom = [pred[0], pred[3]]\n",
        "    right_bottom = [pred[2], pred[3]]\n",
        "        \n",
        "    res = {\n",
        "        'left_top': left_top,\n",
        "        'right_top': right_top,\n",
        "        'left_bottom': left_bottom,\n",
        "        'right_bottom': right_bottom,\n",
        "        'angle': pred[4]\n",
        "    }\n",
        "\n",
        "    with open(sub_dir+indx+'.json', 'w') as f:\n",
        "        json.dump(res, f)"
      ]
    }
  ],
  "metadata": {
    "kernelspec": {
      "display_name": "Python 3",
      "language": "python",
      "name": "python3"
    },
    "language_info": {
      "codemirror_mode": {
        "name": "ipython",
        "version": 3
      },
      "file_extension": ".py",
      "mimetype": "text/x-python",
      "name": "python",
      "nbconvert_exporter": "python",
      "pygments_lexer": "ipython3",
      "version": "3.8.1"
    },
    "colab": {
      "name": "db2022_blend.ipynb",
      "provenance": [],
      "collapsed_sections": []
    },
    "accelerator": "GPU",
    "gpuClass": "standard",
    "widgets": {
      "application/vnd.jupyter.widget-state+json": {
        "dd0e16db03e24e49a3d9fcf63a9c4ed2": {
          "model_module": "@jupyter-widgets/controls",
          "model_name": "HBoxModel",
          "model_module_version": "1.5.0",
          "state": {
            "_dom_classes": [],
            "_model_module": "@jupyter-widgets/controls",
            "_model_module_version": "1.5.0",
            "_model_name": "HBoxModel",
            "_view_count": null,
            "_view_module": "@jupyter-widgets/controls",
            "_view_module_version": "1.5.0",
            "_view_name": "HBoxView",
            "box_style": "",
            "children": [
              "IPY_MODEL_1e9a4dea5c284b7f86828f50d4049e7f",
              "IPY_MODEL_52c763efcf9b45e8b0476f7055e1b5d2",
              "IPY_MODEL_ce99a64fcdb642fe9990e3dd8158d8a5"
            ],
            "layout": "IPY_MODEL_8185176a8f9749e09b3cecc8e3db4cfd"
          }
        },
        "1e9a4dea5c284b7f86828f50d4049e7f": {
          "model_module": "@jupyter-widgets/controls",
          "model_name": "HTMLModel",
          "model_module_version": "1.5.0",
          "state": {
            "_dom_classes": [],
            "_model_module": "@jupyter-widgets/controls",
            "_model_module_version": "1.5.0",
            "_model_name": "HTMLModel",
            "_view_count": null,
            "_view_module": "@jupyter-widgets/controls",
            "_view_module_version": "1.5.0",
            "_view_name": "HTMLView",
            "description": "",
            "description_tooltip": null,
            "layout": "IPY_MODEL_55ae1deeddf84920bab5acf42451e150",
            "placeholder": "​",
            "style": "IPY_MODEL_36bb074a34a34c62838ea1e078722ebf",
            "value": "100%"
          }
        },
        "52c763efcf9b45e8b0476f7055e1b5d2": {
          "model_module": "@jupyter-widgets/controls",
          "model_name": "FloatProgressModel",
          "model_module_version": "1.5.0",
          "state": {
            "_dom_classes": [],
            "_model_module": "@jupyter-widgets/controls",
            "_model_module_version": "1.5.0",
            "_model_name": "FloatProgressModel",
            "_view_count": null,
            "_view_module": "@jupyter-widgets/controls",
            "_view_module_version": "1.5.0",
            "_view_name": "ProgressView",
            "bar_style": "success",
            "description": "",
            "description_tooltip": null,
            "layout": "IPY_MODEL_ebaf54c45f094775bc93a52b09b4c695",
            "max": 178793939,
            "min": 0,
            "orientation": "horizontal",
            "style": "IPY_MODEL_7a58edc1cf5349a2ae9814112fad57eb",
            "value": 178793939
          }
        },
        "ce99a64fcdb642fe9990e3dd8158d8a5": {
          "model_module": "@jupyter-widgets/controls",
          "model_name": "HTMLModel",
          "model_module_version": "1.5.0",
          "state": {
            "_dom_classes": [],
            "_model_module": "@jupyter-widgets/controls",
            "_model_module_version": "1.5.0",
            "_model_name": "HTMLModel",
            "_view_count": null,
            "_view_module": "@jupyter-widgets/controls",
            "_view_module_version": "1.5.0",
            "_view_name": "HTMLView",
            "description": "",
            "description_tooltip": null,
            "layout": "IPY_MODEL_0ef7aa6770c34b8c96532f5e556d2279",
            "placeholder": "​",
            "style": "IPY_MODEL_eaff2539871246bebf7d72d3340b7cb6",
            "value": " 171M/171M [00:06&lt;00:00, 26.8MB/s]"
          }
        },
        "8185176a8f9749e09b3cecc8e3db4cfd": {
          "model_module": "@jupyter-widgets/base",
          "model_name": "LayoutModel",
          "model_module_version": "1.2.0",
          "state": {
            "_model_module": "@jupyter-widgets/base",
            "_model_module_version": "1.2.0",
            "_model_name": "LayoutModel",
            "_view_count": null,
            "_view_module": "@jupyter-widgets/base",
            "_view_module_version": "1.2.0",
            "_view_name": "LayoutView",
            "align_content": null,
            "align_items": null,
            "align_self": null,
            "border": null,
            "bottom": null,
            "display": null,
            "flex": null,
            "flex_flow": null,
            "grid_area": null,
            "grid_auto_columns": null,
            "grid_auto_flow": null,
            "grid_auto_rows": null,
            "grid_column": null,
            "grid_gap": null,
            "grid_row": null,
            "grid_template_areas": null,
            "grid_template_columns": null,
            "grid_template_rows": null,
            "height": null,
            "justify_content": null,
            "justify_items": null,
            "left": null,
            "margin": null,
            "max_height": null,
            "max_width": null,
            "min_height": null,
            "min_width": null,
            "object_fit": null,
            "object_position": null,
            "order": null,
            "overflow": null,
            "overflow_x": null,
            "overflow_y": null,
            "padding": null,
            "right": null,
            "top": null,
            "visibility": null,
            "width": null
          }
        },
        "55ae1deeddf84920bab5acf42451e150": {
          "model_module": "@jupyter-widgets/base",
          "model_name": "LayoutModel",
          "model_module_version": "1.2.0",
          "state": {
            "_model_module": "@jupyter-widgets/base",
            "_model_module_version": "1.2.0",
            "_model_name": "LayoutModel",
            "_view_count": null,
            "_view_module": "@jupyter-widgets/base",
            "_view_module_version": "1.2.0",
            "_view_name": "LayoutView",
            "align_content": null,
            "align_items": null,
            "align_self": null,
            "border": null,
            "bottom": null,
            "display": null,
            "flex": null,
            "flex_flow": null,
            "grid_area": null,
            "grid_auto_columns": null,
            "grid_auto_flow": null,
            "grid_auto_rows": null,
            "grid_column": null,
            "grid_gap": null,
            "grid_row": null,
            "grid_template_areas": null,
            "grid_template_columns": null,
            "grid_template_rows": null,
            "height": null,
            "justify_content": null,
            "justify_items": null,
            "left": null,
            "margin": null,
            "max_height": null,
            "max_width": null,
            "min_height": null,
            "min_width": null,
            "object_fit": null,
            "object_position": null,
            "order": null,
            "overflow": null,
            "overflow_x": null,
            "overflow_y": null,
            "padding": null,
            "right": null,
            "top": null,
            "visibility": null,
            "width": null
          }
        },
        "36bb074a34a34c62838ea1e078722ebf": {
          "model_module": "@jupyter-widgets/controls",
          "model_name": "DescriptionStyleModel",
          "model_module_version": "1.5.0",
          "state": {
            "_model_module": "@jupyter-widgets/controls",
            "_model_module_version": "1.5.0",
            "_model_name": "DescriptionStyleModel",
            "_view_count": null,
            "_view_module": "@jupyter-widgets/base",
            "_view_module_version": "1.2.0",
            "_view_name": "StyleView",
            "description_width": ""
          }
        },
        "ebaf54c45f094775bc93a52b09b4c695": {
          "model_module": "@jupyter-widgets/base",
          "model_name": "LayoutModel",
          "model_module_version": "1.2.0",
          "state": {
            "_model_module": "@jupyter-widgets/base",
            "_model_module_version": "1.2.0",
            "_model_name": "LayoutModel",
            "_view_count": null,
            "_view_module": "@jupyter-widgets/base",
            "_view_module_version": "1.2.0",
            "_view_name": "LayoutView",
            "align_content": null,
            "align_items": null,
            "align_self": null,
            "border": null,
            "bottom": null,
            "display": null,
            "flex": null,
            "flex_flow": null,
            "grid_area": null,
            "grid_auto_columns": null,
            "grid_auto_flow": null,
            "grid_auto_rows": null,
            "grid_column": null,
            "grid_gap": null,
            "grid_row": null,
            "grid_template_areas": null,
            "grid_template_columns": null,
            "grid_template_rows": null,
            "height": null,
            "justify_content": null,
            "justify_items": null,
            "left": null,
            "margin": null,
            "max_height": null,
            "max_width": null,
            "min_height": null,
            "min_width": null,
            "object_fit": null,
            "object_position": null,
            "order": null,
            "overflow": null,
            "overflow_x": null,
            "overflow_y": null,
            "padding": null,
            "right": null,
            "top": null,
            "visibility": null,
            "width": null
          }
        },
        "7a58edc1cf5349a2ae9814112fad57eb": {
          "model_module": "@jupyter-widgets/controls",
          "model_name": "ProgressStyleModel",
          "model_module_version": "1.5.0",
          "state": {
            "_model_module": "@jupyter-widgets/controls",
            "_model_module_version": "1.5.0",
            "_model_name": "ProgressStyleModel",
            "_view_count": null,
            "_view_module": "@jupyter-widgets/base",
            "_view_module_version": "1.2.0",
            "_view_name": "StyleView",
            "bar_color": null,
            "description_width": ""
          }
        },
        "0ef7aa6770c34b8c96532f5e556d2279": {
          "model_module": "@jupyter-widgets/base",
          "model_name": "LayoutModel",
          "model_module_version": "1.2.0",
          "state": {
            "_model_module": "@jupyter-widgets/base",
            "_model_module_version": "1.2.0",
            "_model_name": "LayoutModel",
            "_view_count": null,
            "_view_module": "@jupyter-widgets/base",
            "_view_module_version": "1.2.0",
            "_view_name": "LayoutView",
            "align_content": null,
            "align_items": null,
            "align_self": null,
            "border": null,
            "bottom": null,
            "display": null,
            "flex": null,
            "flex_flow": null,
            "grid_area": null,
            "grid_auto_columns": null,
            "grid_auto_flow": null,
            "grid_auto_rows": null,
            "grid_column": null,
            "grid_gap": null,
            "grid_row": null,
            "grid_template_areas": null,
            "grid_template_columns": null,
            "grid_template_rows": null,
            "height": null,
            "justify_content": null,
            "justify_items": null,
            "left": null,
            "margin": null,
            "max_height": null,
            "max_width": null,
            "min_height": null,
            "min_width": null,
            "object_fit": null,
            "object_position": null,
            "order": null,
            "overflow": null,
            "overflow_x": null,
            "overflow_y": null,
            "padding": null,
            "right": null,
            "top": null,
            "visibility": null,
            "width": null
          }
        },
        "eaff2539871246bebf7d72d3340b7cb6": {
          "model_module": "@jupyter-widgets/controls",
          "model_name": "DescriptionStyleModel",
          "model_module_version": "1.5.0",
          "state": {
            "_model_module": "@jupyter-widgets/controls",
            "_model_module_version": "1.5.0",
            "_model_name": "DescriptionStyleModel",
            "_view_count": null,
            "_view_module": "@jupyter-widgets/base",
            "_view_module_version": "1.2.0",
            "_view_name": "StyleView",
            "description_width": ""
          }
        },
        "63a8ef02157f4595ab5e453dec864594": {
          "model_module": "@jupyter-widgets/controls",
          "model_name": "HBoxModel",
          "model_module_version": "1.5.0",
          "state": {
            "_dom_classes": [],
            "_model_module": "@jupyter-widgets/controls",
            "_model_module_version": "1.5.0",
            "_model_name": "HBoxModel",
            "_view_count": null,
            "_view_module": "@jupyter-widgets/controls",
            "_view_module_version": "1.5.0",
            "_view_name": "HBoxView",
            "box_style": "",
            "children": [
              "IPY_MODEL_ad6126c9352149e3827cec4a658c19d3",
              "IPY_MODEL_eb3eb5cbc42e467ca973cdaa63a5716e",
              "IPY_MODEL_d98531fbed6647ebbfd2e0d555e75213"
            ],
            "layout": "IPY_MODEL_9f28047971ff4d95af18efe8995d0f0c"
          }
        },
        "ad6126c9352149e3827cec4a658c19d3": {
          "model_module": "@jupyter-widgets/controls",
          "model_name": "HTMLModel",
          "model_module_version": "1.5.0",
          "state": {
            "_dom_classes": [],
            "_model_module": "@jupyter-widgets/controls",
            "_model_module_version": "1.5.0",
            "_model_name": "HTMLModel",
            "_view_count": null,
            "_view_module": "@jupyter-widgets/controls",
            "_view_module_version": "1.5.0",
            "_view_name": "HTMLView",
            "description": "",
            "description_tooltip": null,
            "layout": "IPY_MODEL_bcea98a132334efe8ae66a69219b9b55",
            "placeholder": "​",
            "style": "IPY_MODEL_c2548dd026b14329a41ab1a08183ae11",
            "value": "100%"
          }
        },
        "eb3eb5cbc42e467ca973cdaa63a5716e": {
          "model_module": "@jupyter-widgets/controls",
          "model_name": "FloatProgressModel",
          "model_module_version": "1.5.0",
          "state": {
            "_dom_classes": [],
            "_model_module": "@jupyter-widgets/controls",
            "_model_module_version": "1.5.0",
            "_model_name": "FloatProgressModel",
            "_view_count": null,
            "_view_module": "@jupyter-widgets/controls",
            "_view_module_version": "1.5.0",
            "_view_name": "ProgressView",
            "bar_style": "success",
            "description": "",
            "description_tooltip": null,
            "layout": "IPY_MODEL_27f2a4d252ca441180efeeb931761833",
            "max": 100441675,
            "min": 0,
            "orientation": "horizontal",
            "style": "IPY_MODEL_f9f3b5f1eb7a4f938374e006d7d66aa1",
            "value": 100441675
          }
        },
        "d98531fbed6647ebbfd2e0d555e75213": {
          "model_module": "@jupyter-widgets/controls",
          "model_name": "HTMLModel",
          "model_module_version": "1.5.0",
          "state": {
            "_dom_classes": [],
            "_model_module": "@jupyter-widgets/controls",
            "_model_module_version": "1.5.0",
            "_model_name": "HTMLModel",
            "_view_count": null,
            "_view_module": "@jupyter-widgets/controls",
            "_view_module_version": "1.5.0",
            "_view_name": "HTMLView",
            "description": "",
            "description_tooltip": null,
            "layout": "IPY_MODEL_b258d00070884e06bd2a1ddaa6d4d447",
            "placeholder": "​",
            "style": "IPY_MODEL_bb1b241511934bff8f0b61b82cff25d4",
            "value": " 95.8M/95.8M [00:01&lt;00:00, 68.0MB/s]"
          }
        },
        "9f28047971ff4d95af18efe8995d0f0c": {
          "model_module": "@jupyter-widgets/base",
          "model_name": "LayoutModel",
          "model_module_version": "1.2.0",
          "state": {
            "_model_module": "@jupyter-widgets/base",
            "_model_module_version": "1.2.0",
            "_model_name": "LayoutModel",
            "_view_count": null,
            "_view_module": "@jupyter-widgets/base",
            "_view_module_version": "1.2.0",
            "_view_name": "LayoutView",
            "align_content": null,
            "align_items": null,
            "align_self": null,
            "border": null,
            "bottom": null,
            "display": null,
            "flex": null,
            "flex_flow": null,
            "grid_area": null,
            "grid_auto_columns": null,
            "grid_auto_flow": null,
            "grid_auto_rows": null,
            "grid_column": null,
            "grid_gap": null,
            "grid_row": null,
            "grid_template_areas": null,
            "grid_template_columns": null,
            "grid_template_rows": null,
            "height": null,
            "justify_content": null,
            "justify_items": null,
            "left": null,
            "margin": null,
            "max_height": null,
            "max_width": null,
            "min_height": null,
            "min_width": null,
            "object_fit": null,
            "object_position": null,
            "order": null,
            "overflow": null,
            "overflow_x": null,
            "overflow_y": null,
            "padding": null,
            "right": null,
            "top": null,
            "visibility": null,
            "width": null
          }
        },
        "bcea98a132334efe8ae66a69219b9b55": {
          "model_module": "@jupyter-widgets/base",
          "model_name": "LayoutModel",
          "model_module_version": "1.2.0",
          "state": {
            "_model_module": "@jupyter-widgets/base",
            "_model_module_version": "1.2.0",
            "_model_name": "LayoutModel",
            "_view_count": null,
            "_view_module": "@jupyter-widgets/base",
            "_view_module_version": "1.2.0",
            "_view_name": "LayoutView",
            "align_content": null,
            "align_items": null,
            "align_self": null,
            "border": null,
            "bottom": null,
            "display": null,
            "flex": null,
            "flex_flow": null,
            "grid_area": null,
            "grid_auto_columns": null,
            "grid_auto_flow": null,
            "grid_auto_rows": null,
            "grid_column": null,
            "grid_gap": null,
            "grid_row": null,
            "grid_template_areas": null,
            "grid_template_columns": null,
            "grid_template_rows": null,
            "height": null,
            "justify_content": null,
            "justify_items": null,
            "left": null,
            "margin": null,
            "max_height": null,
            "max_width": null,
            "min_height": null,
            "min_width": null,
            "object_fit": null,
            "object_position": null,
            "order": null,
            "overflow": null,
            "overflow_x": null,
            "overflow_y": null,
            "padding": null,
            "right": null,
            "top": null,
            "visibility": null,
            "width": null
          }
        },
        "c2548dd026b14329a41ab1a08183ae11": {
          "model_module": "@jupyter-widgets/controls",
          "model_name": "DescriptionStyleModel",
          "model_module_version": "1.5.0",
          "state": {
            "_model_module": "@jupyter-widgets/controls",
            "_model_module_version": "1.5.0",
            "_model_name": "DescriptionStyleModel",
            "_view_count": null,
            "_view_module": "@jupyter-widgets/base",
            "_view_module_version": "1.2.0",
            "_view_name": "StyleView",
            "description_width": ""
          }
        },
        "27f2a4d252ca441180efeeb931761833": {
          "model_module": "@jupyter-widgets/base",
          "model_name": "LayoutModel",
          "model_module_version": "1.2.0",
          "state": {
            "_model_module": "@jupyter-widgets/base",
            "_model_module_version": "1.2.0",
            "_model_name": "LayoutModel",
            "_view_count": null,
            "_view_module": "@jupyter-widgets/base",
            "_view_module_version": "1.2.0",
            "_view_name": "LayoutView",
            "align_content": null,
            "align_items": null,
            "align_self": null,
            "border": null,
            "bottom": null,
            "display": null,
            "flex": null,
            "flex_flow": null,
            "grid_area": null,
            "grid_auto_columns": null,
            "grid_auto_flow": null,
            "grid_auto_rows": null,
            "grid_column": null,
            "grid_gap": null,
            "grid_row": null,
            "grid_template_areas": null,
            "grid_template_columns": null,
            "grid_template_rows": null,
            "height": null,
            "justify_content": null,
            "justify_items": null,
            "left": null,
            "margin": null,
            "max_height": null,
            "max_width": null,
            "min_height": null,
            "min_width": null,
            "object_fit": null,
            "object_position": null,
            "order": null,
            "overflow": null,
            "overflow_x": null,
            "overflow_y": null,
            "padding": null,
            "right": null,
            "top": null,
            "visibility": null,
            "width": null
          }
        },
        "f9f3b5f1eb7a4f938374e006d7d66aa1": {
          "model_module": "@jupyter-widgets/controls",
          "model_name": "ProgressStyleModel",
          "model_module_version": "1.5.0",
          "state": {
            "_model_module": "@jupyter-widgets/controls",
            "_model_module_version": "1.5.0",
            "_model_name": "ProgressStyleModel",
            "_view_count": null,
            "_view_module": "@jupyter-widgets/base",
            "_view_module_version": "1.2.0",
            "_view_name": "StyleView",
            "bar_color": null,
            "description_width": ""
          }
        },
        "b258d00070884e06bd2a1ddaa6d4d447": {
          "model_module": "@jupyter-widgets/base",
          "model_name": "LayoutModel",
          "model_module_version": "1.2.0",
          "state": {
            "_model_module": "@jupyter-widgets/base",
            "_model_module_version": "1.2.0",
            "_model_name": "LayoutModel",
            "_view_count": null,
            "_view_module": "@jupyter-widgets/base",
            "_view_module_version": "1.2.0",
            "_view_name": "LayoutView",
            "align_content": null,
            "align_items": null,
            "align_self": null,
            "border": null,
            "bottom": null,
            "display": null,
            "flex": null,
            "flex_flow": null,
            "grid_area": null,
            "grid_auto_columns": null,
            "grid_auto_flow": null,
            "grid_auto_rows": null,
            "grid_column": null,
            "grid_gap": null,
            "grid_row": null,
            "grid_template_areas": null,
            "grid_template_columns": null,
            "grid_template_rows": null,
            "height": null,
            "justify_content": null,
            "justify_items": null,
            "left": null,
            "margin": null,
            "max_height": null,
            "max_width": null,
            "min_height": null,
            "min_width": null,
            "object_fit": null,
            "object_position": null,
            "order": null,
            "overflow": null,
            "overflow_x": null,
            "overflow_y": null,
            "padding": null,
            "right": null,
            "top": null,
            "visibility": null,
            "width": null
          }
        },
        "bb1b241511934bff8f0b61b82cff25d4": {
          "model_module": "@jupyter-widgets/controls",
          "model_name": "DescriptionStyleModel",
          "model_module_version": "1.5.0",
          "state": {
            "_model_module": "@jupyter-widgets/controls",
            "_model_module_version": "1.5.0",
            "_model_name": "DescriptionStyleModel",
            "_view_count": null,
            "_view_module": "@jupyter-widgets/base",
            "_view_module_version": "1.2.0",
            "_view_name": "StyleView",
            "description_width": ""
          }
        }
      }
    }
  },
  "nbformat": 4,
  "nbformat_minor": 5
}