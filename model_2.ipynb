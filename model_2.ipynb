{
  "cells": [
    {
      "cell_type": "code",
      "execution_count": 1,
      "id": "73d6bf79",
      "metadata": {
        "id": "73d6bf79"
      },
      "outputs": [],
      "source": [
        "# Общие библиотеки\n",
        "import pandas as pd\n",
        "import numpy as np\n",
        "import glob\n",
        "from tqdm import tqdm\n",
        "import os\n",
        "from sklearn.model_selection import train_test_split\n",
        "import json\n",
        "from math import sin, cos\n",
        "\n",
        "# Для создания и обучения модели\n",
        "import torch\n",
        "import torch.nn as nn\n",
        "import torch.optim as optim\n",
        "from torch.utils.data import Dataset\n",
        "from torchvision import datasets, models, transforms\n",
        "\n",
        "# Для работы с изображениями\n",
        "import cv2\n",
        "from PIL import Image\n",
        "\n",
        "# Для визуализации\n",
        "import matplotlib.pyplot as plt\n",
        "from IPython.display import clear_output"
      ]
    },
    {
      "cell_type": "code",
      "execution_count": 2,
      "id": "bd1c20ea",
      "metadata": {
        "colab": {
          "base_uri": "https://localhost:8080/"
        },
        "id": "bd1c20ea",
        "outputId": "7817cbd3-f676-4c04-f7f9-017b11be5bd5"
      },
      "outputs": [
        {
          "output_type": "stream",
          "name": "stdout",
          "text": [
            "Mounted at /content/drive\n"
          ]
        }
      ],
      "source": [
        "from google.colab import drive\n",
        "drive.mount('/content/drive')"
      ]
    },
    {
      "cell_type": "code",
      "source": [
        "path_to_model_weights = \"drive/MyDrive/Colab Notebooks/db2022/content/model/model_2_alld.pth\""
      ],
      "metadata": {
        "id": "g2i04ZRB2cSS"
      },
      "id": "g2i04ZRB2cSS",
      "execution_count": 3,
      "outputs": []
    },
    {
      "cell_type": "code",
      "execution_count": 4,
      "id": "41d5f294",
      "metadata": {
        "colab": {
          "base_uri": "https://localhost:8080/",
          "height": 206
        },
        "id": "41d5f294",
        "outputId": "dbe8d244-cd51-4a98-a049-3d3bc348d750"
      },
      "outputs": [
        {
          "output_type": "execute_result",
          "data": {
            "text/plain": [
              "         id  left_top_x  left_top_y  right_bottom_x  right_bottom_y  angle\n",
              "0  1029.png      4359.0      2801.0          3092.0          3504.0  106.0\n",
              "1  1009.png      3688.0      6298.0          3889.0          4863.0  233.0\n",
              "2  1027.png      4548.0      2431.0          4699.0          3872.0   39.0\n",
              "3  1011.png      6273.0      5116.0          7672.0          5491.0  330.0\n",
              "4     1.png      8533.0      2184.0          9834.0          2819.0  341.0"
            ],
            "text/html": [
              "\n",
              "  <div id=\"df-65336e45-f836-4470-8c8f-f81fb2721bb9\">\n",
              "    <div class=\"colab-df-container\">\n",
              "      <div>\n",
              "<style scoped>\n",
              "    .dataframe tbody tr th:only-of-type {\n",
              "        vertical-align: middle;\n",
              "    }\n",
              "\n",
              "    .dataframe tbody tr th {\n",
              "        vertical-align: top;\n",
              "    }\n",
              "\n",
              "    .dataframe thead th {\n",
              "        text-align: right;\n",
              "    }\n",
              "</style>\n",
              "<table border=\"1\" class=\"dataframe\">\n",
              "  <thead>\n",
              "    <tr style=\"text-align: right;\">\n",
              "      <th></th>\n",
              "      <th>id</th>\n",
              "      <th>left_top_x</th>\n",
              "      <th>left_top_y</th>\n",
              "      <th>right_bottom_x</th>\n",
              "      <th>right_bottom_y</th>\n",
              "      <th>angle</th>\n",
              "    </tr>\n",
              "  </thead>\n",
              "  <tbody>\n",
              "    <tr>\n",
              "      <th>0</th>\n",
              "      <td>1029.png</td>\n",
              "      <td>4359.0</td>\n",
              "      <td>2801.0</td>\n",
              "      <td>3092.0</td>\n",
              "      <td>3504.0</td>\n",
              "      <td>106.0</td>\n",
              "    </tr>\n",
              "    <tr>\n",
              "      <th>1</th>\n",
              "      <td>1009.png</td>\n",
              "      <td>3688.0</td>\n",
              "      <td>6298.0</td>\n",
              "      <td>3889.0</td>\n",
              "      <td>4863.0</td>\n",
              "      <td>233.0</td>\n",
              "    </tr>\n",
              "    <tr>\n",
              "      <th>2</th>\n",
              "      <td>1027.png</td>\n",
              "      <td>4548.0</td>\n",
              "      <td>2431.0</td>\n",
              "      <td>4699.0</td>\n",
              "      <td>3872.0</td>\n",
              "      <td>39.0</td>\n",
              "    </tr>\n",
              "    <tr>\n",
              "      <th>3</th>\n",
              "      <td>1011.png</td>\n",
              "      <td>6273.0</td>\n",
              "      <td>5116.0</td>\n",
              "      <td>7672.0</td>\n",
              "      <td>5491.0</td>\n",
              "      <td>330.0</td>\n",
              "    </tr>\n",
              "    <tr>\n",
              "      <th>4</th>\n",
              "      <td>1.png</td>\n",
              "      <td>8533.0</td>\n",
              "      <td>2184.0</td>\n",
              "      <td>9834.0</td>\n",
              "      <td>2819.0</td>\n",
              "      <td>341.0</td>\n",
              "    </tr>\n",
              "  </tbody>\n",
              "</table>\n",
              "</div>\n",
              "      <button class=\"colab-df-convert\" onclick=\"convertToInteractive('df-65336e45-f836-4470-8c8f-f81fb2721bb9')\"\n",
              "              title=\"Convert this dataframe to an interactive table.\"\n",
              "              style=\"display:none;\">\n",
              "        \n",
              "  <svg xmlns=\"http://www.w3.org/2000/svg\" height=\"24px\"viewBox=\"0 0 24 24\"\n",
              "       width=\"24px\">\n",
              "    <path d=\"M0 0h24v24H0V0z\" fill=\"none\"/>\n",
              "    <path d=\"M18.56 5.44l.94 2.06.94-2.06 2.06-.94-2.06-.94-.94-2.06-.94 2.06-2.06.94zm-11 1L8.5 8.5l.94-2.06 2.06-.94-2.06-.94L8.5 2.5l-.94 2.06-2.06.94zm10 10l.94 2.06.94-2.06 2.06-.94-2.06-.94-.94-2.06-.94 2.06-2.06.94z\"/><path d=\"M17.41 7.96l-1.37-1.37c-.4-.4-.92-.59-1.43-.59-.52 0-1.04.2-1.43.59L10.3 9.45l-7.72 7.72c-.78.78-.78 2.05 0 2.83L4 21.41c.39.39.9.59 1.41.59.51 0 1.02-.2 1.41-.59l7.78-7.78 2.81-2.81c.8-.78.8-2.07 0-2.86zM5.41 20L4 18.59l7.72-7.72 1.47 1.35L5.41 20z\"/>\n",
              "  </svg>\n",
              "      </button>\n",
              "      \n",
              "  <style>\n",
              "    .colab-df-container {\n",
              "      display:flex;\n",
              "      flex-wrap:wrap;\n",
              "      gap: 12px;\n",
              "    }\n",
              "\n",
              "    .colab-df-convert {\n",
              "      background-color: #E8F0FE;\n",
              "      border: none;\n",
              "      border-radius: 50%;\n",
              "      cursor: pointer;\n",
              "      display: none;\n",
              "      fill: #1967D2;\n",
              "      height: 32px;\n",
              "      padding: 0 0 0 0;\n",
              "      width: 32px;\n",
              "    }\n",
              "\n",
              "    .colab-df-convert:hover {\n",
              "      background-color: #E2EBFA;\n",
              "      box-shadow: 0px 1px 2px rgba(60, 64, 67, 0.3), 0px 1px 3px 1px rgba(60, 64, 67, 0.15);\n",
              "      fill: #174EA6;\n",
              "    }\n",
              "\n",
              "    [theme=dark] .colab-df-convert {\n",
              "      background-color: #3B4455;\n",
              "      fill: #D2E3FC;\n",
              "    }\n",
              "\n",
              "    [theme=dark] .colab-df-convert:hover {\n",
              "      background-color: #434B5C;\n",
              "      box-shadow: 0px 1px 3px 1px rgba(0, 0, 0, 0.15);\n",
              "      filter: drop-shadow(0px 1px 2px rgba(0, 0, 0, 0.3));\n",
              "      fill: #FFFFFF;\n",
              "    }\n",
              "  </style>\n",
              "\n",
              "      <script>\n",
              "        const buttonEl =\n",
              "          document.querySelector('#df-65336e45-f836-4470-8c8f-f81fb2721bb9 button.colab-df-convert');\n",
              "        buttonEl.style.display =\n",
              "          google.colab.kernel.accessAllowed ? 'block' : 'none';\n",
              "\n",
              "        async function convertToInteractive(key) {\n",
              "          const element = document.querySelector('#df-65336e45-f836-4470-8c8f-f81fb2721bb9');\n",
              "          const dataTable =\n",
              "            await google.colab.kernel.invokeFunction('convertToInteractive',\n",
              "                                                     [key], {});\n",
              "          if (!dataTable) return;\n",
              "\n",
              "          const docLinkHtml = 'Like what you see? Visit the ' +\n",
              "            '<a target=\"_blank\" href=https://colab.research.google.com/notebooks/data_table.ipynb>data table notebook</a>'\n",
              "            + ' to learn more about interactive tables.';\n",
              "          element.innerHTML = '';\n",
              "          dataTable['output_type'] = 'display_data';\n",
              "          await google.colab.output.renderOutput(dataTable, element);\n",
              "          const docLink = document.createElement('div');\n",
              "          docLink.innerHTML = docLinkHtml;\n",
              "          element.appendChild(docLink);\n",
              "        }\n",
              "      </script>\n",
              "    </div>\n",
              "  </div>\n",
              "  "
            ]
          },
          "metadata": {},
          "execution_count": 4
        }
      ],
      "source": [
        "json_dir = \"drive/MyDrive/Colab Notebooks/db2022/content/json/\"\n",
        "\n",
        "data_df = pd.DataFrame({'id': [], \"left_top_x\": [], 'left_top_y': [], \"right_bottom_x\": [], 'right_bottom_y': [], 'angle': []})\n",
        "\n",
        "json_true = []\n",
        "for _, _, files in os.walk(json_dir):\n",
        "    for x in files:\n",
        "        if x.endswith(\".json\"):\n",
        "            data = json.load(open(json_dir + x))\n",
        "            new_row = {'id':x.split(\".\")[0]+\".png\", 'left_top_x':data[\"left_top\"][0], 'left_top_y':data[\"left_top\"][1], 'right_bottom_x': data[\"right_bottom\"][0], \"right_bottom_y\": data[\"right_bottom\"][1], 'angle': data[\"angle\"]}\n",
        "            data_df = data_df.append(new_row, ignore_index=True)\n",
        "\n",
        "data_df.head(5)"
      ]
    },
    {
      "cell_type": "code",
      "execution_count": 5,
      "id": "cc6e332c",
      "metadata": {
        "id": "cc6e332c"
      },
      "outputs": [],
      "source": [
        "class ImageDataset(Dataset):\n",
        "    def __init__(self, data_df, transform=None):\n",
        "\n",
        "        self.data_df = data_df\n",
        "        self.transform = transform\n",
        "\n",
        "    def __getitem__(self, idx):\n",
        "        # достаем имя изображения и ее лейбл\n",
        "        image_name, labels = self.data_df.iloc[idx]['id'], [self.data_df.iloc[idx]['left_top_x']/10496, \n",
        "                                                            self.data_df.iloc[idx]['left_top_y']/10496, \n",
        "                                                            self.data_df.iloc[idx]['right_bottom_x']/10496, \n",
        "                                                            self.data_df.iloc[idx]['right_bottom_y']/10496, \n",
        "                                                            self.data_df.iloc[idx]['angle']/360]\n",
        "\n",
        "        #print(image_name)  \n",
        "        # читаем картинку. read the image\n",
        "        image = cv2.imread(f\"drive/MyDrive/Colab Notebooks/db2022/content/train/{image_name}\")\n",
        "        image = cv2.cvtColor(image, cv2.COLOR_BGR2RGB)\n",
        "        image = Image.fromarray(image)\n",
        "        \n",
        "        # преобразуем, если нужно. transform it, if necessary\n",
        "        if self.transform:\n",
        "            image = self.transform(image)\n",
        "        \n",
        "        return image, torch.tensor(labels).float()\n",
        "    \n",
        "    def __len__(self):\n",
        "        return len(self.data_df)"
      ]
    },
    {
      "cell_type": "code",
      "execution_count": 6,
      "id": "67c3de62",
      "metadata": {
        "id": "67c3de62"
      },
      "outputs": [],
      "source": [
        "train_transform = transforms.Compose([\n",
        "    transforms.RandomResizedCrop(224),\n",
        "    transforms.ToTensor(),\n",
        "    transforms.Normalize(mean=[0.485, 0.456, 0.406],\n",
        "                          std=[0.229, 0.224, 0.225]),\n",
        "])\n",
        "\n",
        "valid_transform = transforms.Compose([\n",
        "    transforms.RandomResizedCrop(224),\n",
        "    transforms.ToTensor(),\n",
        "    transforms.Normalize(mean=[0.485, 0.456, 0.406],\n",
        "                          std=[0.229, 0.224, 0.225]),\n",
        "])"
      ]
    },
    {
      "cell_type": "code",
      "execution_count": 7,
      "id": "83e03a69",
      "metadata": {
        "colab": {
          "base_uri": "https://localhost:8080/"
        },
        "id": "83e03a69",
        "outputId": "ad5463d8-60ab-4d54-8a5c-65a5684fd7f2"
      },
      "outputs": [
        {
          "output_type": "stream",
          "name": "stdout",
          "text": [
            "Обучающей выборки  800\n",
            "Тестовой выборки  400\n"
          ]
        }
      ],
      "source": [
        "from os import listdir\n",
        "\n",
        "print(\"Обучающей выборки \" ,len(listdir(\"drive/MyDrive/Colab Notebooks/db2022/content/train\")))\n",
        "print(\"Тестовой выборки \" ,len(listdir(\"drive/MyDrive/Colab Notebooks/db2022/content/test\")))\n",
        "\n",
        "#Обучающей выборки 800\n",
        "#Тестовой выборки 400"
      ]
    },
    {
      "cell_type": "code",
      "execution_count": 8,
      "id": "f6e55bdf",
      "metadata": {
        "id": "f6e55bdf"
      },
      "outputs": [],
      "source": [
        "# разделим датасет на трейн и валидацию, чтобы смотреть на качество\n",
        "#train_df, valid_df = train_test_split(data_df, test_size=0.2, random_state=43)"
      ]
    },
    {
      "cell_type": "code",
      "execution_count": 9,
      "id": "2c7bce2f",
      "metadata": {
        "id": "2c7bce2f"
      },
      "outputs": [],
      "source": [
        "#train_dataset = ImageDataset(train_df, train_transform)\n",
        "#valid_dataset = ImageDataset(valid_df, valid_transform)\n",
        "\n",
        "train_dataset = ImageDataset(data_df, train_transform)"
      ]
    },
    {
      "cell_type": "code",
      "source": [
        "batch_size= 16"
      ],
      "metadata": {
        "id": "rpIdRrnrUEHd"
      },
      "id": "rpIdRrnrUEHd",
      "execution_count": 10,
      "outputs": []
    },
    {
      "cell_type": "code",
      "execution_count": 11,
      "id": "66956fec",
      "metadata": {
        "id": "66956fec"
      },
      "outputs": [],
      "source": [
        "train_loader = torch.utils.data.DataLoader(dataset=train_dataset,\n",
        "                                           batch_size= batch_size,\n",
        "                                           shuffle=True,\n",
        "                                           pin_memory=True,\n",
        "                                           num_workers=2)\n",
        "\n",
        "#valid_loader = torch.utils.data.DataLoader(dataset=valid_dataset,\n",
        "#                                           batch_size= batch_size,\n",
        "#                                           # shuffle=True,\n",
        "#                                           pin_memory=True,\n",
        "#                                           num_workers=2)"
      ]
    },
    {
      "cell_type": "code",
      "execution_count": 12,
      "id": "ffa281e7",
      "metadata": {
        "id": "ffa281e7"
      },
      "outputs": [],
      "source": [
        "def compute_metric(data_true, data_pred, outImageW = 10496, outImageH = 10496):\n",
        "\n",
        "    x_center_true = np.array((data_true[0] + data_true[2])/2).astype(int)\n",
        "    y_center_true = np.array((data_true[1] + data_true[3])/2).astype(int)\n",
        "\n",
        "    x_metr = x_center_true - np.array((data_pred[0] + data_pred[2])/2).astype(int)\n",
        "    y_metr = y_center_true - np.array((data_pred[1] + data_pred[3])/2).astype(int)\n",
        "\n",
        "    metr =  1 - 0.7 * (abs(x_metr)/outImageH + abs(y_metr)/outImageW)/2 + 0.3 *abs(data_pred[4] - data_true[4])/359\n",
        "    return metr"
      ]
    },
    {
      "cell_type": "code",
      "execution_count": 13,
      "id": "f3504d36",
      "metadata": {
        "id": "f3504d36"
      },
      "outputs": [],
      "source": [
        "def plot_history(train_history, val_history, title='loss'):\n",
        "    plt.figure()\n",
        "    plt.title('{}'.format(title))\n",
        "    plt.plot(train_history, label='train', zorder=1)\n",
        "    \n",
        "    points = np.array(val_history)\n",
        "    steps = list(range(0, len(train_history) + 1, int(len(train_history) / len(val_history))))[1:]\n",
        "    \n",
        "    plt.scatter(steps, val_history, marker='+', s=180, c='orange', label='val', zorder=2)\n",
        "    plt.xlabel('train steps')\n",
        "    \n",
        "    plt.legend(loc='best')\n",
        "    plt.grid()\n",
        "\n",
        "    plt.show()"
      ]
    },
    {
      "cell_type": "code",
      "execution_count": 14,
      "id": "e9b1d333",
      "metadata": {
        "id": "e9b1d333"
      },
      "outputs": [],
      "source": [
        "def train(res_model, criterion, optimizer, train_dataloader, test_dataloader, NUM_EPOCH, lr_scheduler):\n",
        "    train_loss_log = []\n",
        "    val_loss_log = []\n",
        "    \n",
        "    train_acc_log = []\n",
        "    val_acc_log = []\n",
        "    \n",
        "    for epoch in tqdm(range(NUM_EPOCH)):\n",
        "        model.train()\n",
        "        train_loss = 0.\n",
        "        train_size = 0\n",
        "        \n",
        "        train_pred = []\n",
        "\n",
        "        for imgs, labels in train_dataloader:\n",
        "            optimizer.zero_grad()\n",
        "\n",
        "            imgs = imgs.cuda()\n",
        "            labels = labels.cuda()\n",
        "\n",
        "            y_pred = model(imgs)\n",
        "\n",
        "            loss = criterion(y_pred, labels)\n",
        "            loss.backward()\n",
        "            \n",
        "            train_loss += loss.item()\n",
        "            train_size += y_pred.size(0)\n",
        "            train_loss_log.append((loss.data.cpu().detach().numpy() / y_pred.size(0)) * 100)\n",
        "            \n",
        "            y_pred[:, :4] = y_pred[:, :4] * 10496\n",
        "            y_pred[:, -1] = y_pred[:, -1] * 360\n",
        "\n",
        "            labels[:, :4] = labels[:, :4] * 10496\n",
        "            labels[:, -1] = labels[:, -1] * 360\n",
        "\n",
        "            for label, pr in zip(labels, y_pred):\n",
        "                    train_pred.append(compute_metric(label.cpu().detach().numpy(), pr.cpu().detach().numpy()))\n",
        "\n",
        "            optimizer.step()\n",
        "\n",
        "        train_acc_log.append(train_pred)\n",
        "\n",
        "        epoch_train_loss = (train_loss / train_size)*100\n",
        "        torch.save({\n",
        "            'epoch': epoch,\n",
        "            'model_state_dict': model.state_dict(),\n",
        "            'optimizer_state_dict': optimizer.state_dict(),\n",
        "            'loss': epoch_train_loss\n",
        "            }, path_to_model_weights)\n",
        "\n",
        "\n",
        "\n",
        "        val_loss = 0.\n",
        "        val_size = 0\n",
        "        \n",
        "        val_pred = []\n",
        "        \n",
        "        lr_scheduler.step()\n",
        "\n",
        "\n",
        "        model.eval()\n",
        "        \n",
        "        #with torch.no_grad():\n",
        "        #    for imgs, labels in test_dataloader:\n",
        "                \n",
        "        #        imgs = imgs.cuda()\n",
        "        #        labels = labels.cuda()\n",
        "                \n",
        "        #        pred = model(imgs)\n",
        "        #        loss = criterion(pred, labels)\n",
        "\n",
        "        #        pred[:, :4] = pred[:, :4] * 10496\n",
        "        #        pred[:, -1] = pred[:, -1] * 360\n",
        "\n",
        "        #        labels[:, :4] = labels[:, :4] * 10496\n",
        "        #        labels[:, -1] = labels[:, -1] * 360\n",
        "                \n",
        "        #        val_loss += loss.item()\n",
        "        #        val_size += pred.size(0)\n",
        "\n",
        "        #        for label, pr in zip(labels, pred):\n",
        "        #            val_pred.append(compute_metric(label.cpu().detach().numpy(), pr.cpu().detach().numpy()))\n",
        "\n",
        "        #val_loss_log.append((val_loss / val_size)*100)\n",
        "        #val_acc_log.append(val_pred)\n",
        "\n",
        "        clear_output()\n",
        "        #plot_history(train_loss_log, val_loss_log, 'loss')\n",
        "        plot_history(train_loss_log, 'loss')\n",
        "        \n",
        "\n",
        "\n",
        "        print('Train loss:', (train_loss / train_size)*100)\n",
        "        #print('Val loss:', (val_loss / val_size)*100)\n",
        "        print('Train metric:', (np.mean(train_pred)))\n",
        "        #print('Val metric:', (np.mean(val_pred)))\n",
        "\n",
        "    #return train_loss_log, train_acc_log, val_loss_log, val_acc_log    \n",
        "    return train_loss_log, train_acc_log"
      ]
    },
    {
      "cell_type": "code",
      "execution_count": 15,
      "id": "ce1c5422",
      "metadata": {
        "colab": {
          "base_uri": "https://localhost:8080/",
          "height": 173,
          "referenced_widgets": [
            "69c46b9dc8f6403e84cf8041035614aa",
            "e2b06ce3c86e498c87fb13afe3b36d56",
            "ff5ece39e87f4b74aebb15aa4a3a69e9",
            "1650b229452e456d893cf3d2c3e3b59f",
            "0064709471084dbf8367f45aeb71e9af",
            "499707f141d9484cb90c0364a1324d85",
            "2fff7a30f38348a491ad5c8d907e5bd6",
            "4444d6c51d254c3c9aef31071b1f410c",
            "f114b9e9b9d24d4cb66e5ff7d30a1cd6",
            "046efdb013e34a688bcf14f344cb7907",
            "6163ff7fcc9f40138fa18ebeb0b81acd"
          ]
        },
        "id": "ce1c5422",
        "outputId": "7b046c29-e890-4314-db40-d9c2349ccfde"
      },
      "outputs": [
        {
          "output_type": "stream",
          "name": "stderr",
          "text": [
            "/usr/local/lib/python3.7/dist-packages/torchvision/models/_utils.py:209: UserWarning: The parameter 'pretrained' is deprecated since 0.13 and will be removed in 0.15, please use 'weights' instead.\n",
            "  f\"The parameter '{pretrained_param}' is deprecated since 0.13 and will be removed in 0.15, \"\n",
            "/usr/local/lib/python3.7/dist-packages/torchvision/models/_utils.py:223: UserWarning: Arguments other than a weight enum or `None` for 'weights' are deprecated since 0.13 and will be removed in 0.15. The current behavior is equivalent to passing `weights=ResNeXt50_32X4D_Weights.IMAGENET1K_V1`. You can also use `weights=ResNeXt50_32X4D_Weights.DEFAULT` to get the most up-to-date weights.\n",
            "  warnings.warn(msg)\n",
            "Downloading: \"https://download.pytorch.org/models/resnext50_32x4d-7cdf4587.pth\" to /root/.cache/torch/hub/checkpoints/resnext50_32x4d-7cdf4587.pth\n"
          ]
        },
        {
          "output_type": "display_data",
          "data": {
            "text/plain": [
              "  0%|          | 0.00/95.8M [00:00<?, ?B/s]"
            ],
            "application/vnd.jupyter.widget-view+json": {
              "version_major": 2,
              "version_minor": 0,
              "model_id": "69c46b9dc8f6403e84cf8041035614aa"
            }
          },
          "metadata": {}
        },
        {
          "output_type": "stream",
          "name": "stdout",
          "text": [
            "Adjusting learning rate of group 0 to 1.0000e-03.\n"
          ]
        }
      ],
      "source": [
        "torch.cuda.empty_cache()\n",
        "\n",
        "# Подргружаем модель\n",
        "\n",
        "#model = models.resnet50(pretrained=True)\n",
        "#model = models.resnet152(pretrained=True)\n",
        "#model = models.wide_resnet50_2(pretrained=True)\n",
        "#model = models.wide_resnet101_2(pretrained=True)\n",
        "#model = models.resnet101(pretrained=True)\n",
        "\n",
        "\n",
        "#model = models.resnet101(pretrained=True)\n",
        "\n",
        "#model = models.googlenet(pretrained=True)    не запускается  RuntimeError: mat1 and mat2 shapes cannot be multiplied (16x1024 and 2048x5)\n",
        "#model =  models.inception_v3(pretrained=True) не запускается Calculated padded input size per channel: (3 x 3). Kernel size: (5 x 5). Kernel size can't be greater than actual input size\n",
        "#model = models.densenet161(pretrained=True)  не запускается RuntimeError: The size of tensor a (1000) must match the size of tensor b (5) at non-singleton dimension 1\n",
        "#model = models.squeezenet1_0(pretrained=True) не запускается RuntimeError: The size of tensor a (1000) must match the size of tensor b (5) at non-singleton dimension 1\n",
        "#model = models.shufflenet_v2_x1_0(pretrained=True) не запускается  RuntimeError: mat1 and mat2 shapes cannot be multiplied (16x1024 and 2048x5)\n",
        "#model = models.mobilenet_v2(pretrained=True) не запускается RuntimeError: The size of tensor a (1000) must match the size of tensor b (5) at non-singleton dimension 1\n",
        "#model = models.mnasnet1_0(pretrained=True) не запускается RuntimeError: The size of tensor a (1000) must match the size of tensor b (5) at non-singleton dimension 1\n",
        "#model = models.vgg16(pretrained=True) не запускаются RuntimeError: The size of tensor a (1000) must match the size of tensor b (5) at non-singleton dimension 1\n",
        "#model = models.resnet18(pretrained=True) не запускается \n",
        "\n",
        "\n",
        "\n",
        "\n",
        "model = models.resnext50_32x4d(pretrained=True)\n",
        "\n",
        "\n",
        "\n",
        "model.fc = nn.Linear(2048, 5)\n",
        "#model.fc = nn.Linear(1000, 5)\n",
        "\n",
        "model = model.cuda()\n",
        "#criterion = torch.nn.MSELoss()\n",
        "criterion =  nn.SmoothL1Loss()\n",
        "\n",
        "optimizer = torch.optim.Adam(model.fc.parameters(), lr=0.001)\n",
        "\n",
        "lr_scheduler = torch.optim.lr_scheduler.StepLR(optimizer, step_size=2, gamma=0.9, verbose=True)"
      ]
    },
    {
      "cell_type": "code",
      "execution_count": 17,
      "id": "c967571e",
      "metadata": {
        "colab": {
          "base_uri": "https://localhost:8080/",
          "height": 609
        },
        "id": "c967571e",
        "outputId": "415f91f1-8657-4d0b-e2a6-c5b80176c221"
      },
      "outputs": [
        {
          "output_type": "stream",
          "name": "stderr",
          "text": [
            "\r  0%|          | 0/20 [07:30<?, ?it/s]\n"
          ]
        },
        {
          "output_type": "error",
          "ename": "ValueError",
          "evalue": "ignored",
          "traceback": [
            "\u001b[0;31m---------------------------------------------------------------------------\u001b[0m",
            "\u001b[0;31mValueError\u001b[0m                                Traceback (most recent call last)",
            "\u001b[0;32m<ipython-input-17-87a816dc419d>\u001b[0m in \u001b[0;36m<module>\u001b[0;34m()\u001b[0m\n\u001b[1;32m      1\u001b[0m \u001b[0;31m#train_loss_log, train_acc_log, val_loss_log, val_acc_log = train(model, criterion, optimizer, train_loader, valid_loader, 20, lr_scheduler)\u001b[0m\u001b[0;34m\u001b[0m\u001b[0;34m\u001b[0m\u001b[0;34m\u001b[0m\u001b[0m\n\u001b[0;32m----> 2\u001b[0;31m \u001b[0mtrain_loss_log\u001b[0m\u001b[0;34m,\u001b[0m \u001b[0mtrain_acc_log\u001b[0m \u001b[0;34m=\u001b[0m \u001b[0mtrain\u001b[0m\u001b[0;34m(\u001b[0m\u001b[0mmodel\u001b[0m\u001b[0;34m,\u001b[0m \u001b[0mcriterion\u001b[0m\u001b[0;34m,\u001b[0m \u001b[0moptimizer\u001b[0m\u001b[0;34m,\u001b[0m \u001b[0mtrain_loader\u001b[0m\u001b[0;34m,\u001b[0m \u001b[0mtrain_loader\u001b[0m\u001b[0;34m,\u001b[0m \u001b[0;36m20\u001b[0m\u001b[0;34m,\u001b[0m \u001b[0mlr_scheduler\u001b[0m\u001b[0;34m)\u001b[0m\u001b[0;34m\u001b[0m\u001b[0;34m\u001b[0m\u001b[0m\n\u001b[0m",
            "\u001b[0;32m<ipython-input-14-b33a80facf24>\u001b[0m in \u001b[0;36mtrain\u001b[0;34m(res_model, criterion, optimizer, train_dataloader, test_dataloader, NUM_EPOCH, lr_scheduler)\u001b[0m\n\u001b[1;32m     87\u001b[0m         \u001b[0mclear_output\u001b[0m\u001b[0;34m(\u001b[0m\u001b[0;34m)\u001b[0m\u001b[0;34m\u001b[0m\u001b[0;34m\u001b[0m\u001b[0m\n\u001b[1;32m     88\u001b[0m         \u001b[0;31m#plot_history(train_loss_log, val_loss_log, 'loss')\u001b[0m\u001b[0;34m\u001b[0m\u001b[0;34m\u001b[0m\u001b[0;34m\u001b[0m\u001b[0m\n\u001b[0;32m---> 89\u001b[0;31m         \u001b[0mplot_history\u001b[0m\u001b[0;34m(\u001b[0m\u001b[0mtrain_loss_log\u001b[0m\u001b[0;34m,\u001b[0m \u001b[0;34m'loss'\u001b[0m\u001b[0;34m)\u001b[0m\u001b[0;34m\u001b[0m\u001b[0;34m\u001b[0m\u001b[0m\n\u001b[0m\u001b[1;32m     90\u001b[0m \u001b[0;34m\u001b[0m\u001b[0m\n\u001b[1;32m     91\u001b[0m \u001b[0;34m\u001b[0m\u001b[0m\n",
            "\u001b[0;32m<ipython-input-13-131a2d6f122b>\u001b[0m in \u001b[0;36mplot_history\u001b[0;34m(train_history, val_history, title)\u001b[0m\n\u001b[1;32m      7\u001b[0m     \u001b[0msteps\u001b[0m \u001b[0;34m=\u001b[0m \u001b[0mlist\u001b[0m\u001b[0;34m(\u001b[0m\u001b[0mrange\u001b[0m\u001b[0;34m(\u001b[0m\u001b[0;36m0\u001b[0m\u001b[0;34m,\u001b[0m \u001b[0mlen\u001b[0m\u001b[0;34m(\u001b[0m\u001b[0mtrain_history\u001b[0m\u001b[0;34m)\u001b[0m \u001b[0;34m+\u001b[0m \u001b[0;36m1\u001b[0m\u001b[0;34m,\u001b[0m \u001b[0mint\u001b[0m\u001b[0;34m(\u001b[0m\u001b[0mlen\u001b[0m\u001b[0;34m(\u001b[0m\u001b[0mtrain_history\u001b[0m\u001b[0;34m)\u001b[0m \u001b[0;34m/\u001b[0m \u001b[0mlen\u001b[0m\u001b[0;34m(\u001b[0m\u001b[0mval_history\u001b[0m\u001b[0;34m)\u001b[0m\u001b[0;34m)\u001b[0m\u001b[0;34m)\u001b[0m\u001b[0;34m)\u001b[0m\u001b[0;34m[\u001b[0m\u001b[0;36m1\u001b[0m\u001b[0;34m:\u001b[0m\u001b[0;34m]\u001b[0m\u001b[0;34m\u001b[0m\u001b[0;34m\u001b[0m\u001b[0m\n\u001b[1;32m      8\u001b[0m \u001b[0;34m\u001b[0m\u001b[0m\n\u001b[0;32m----> 9\u001b[0;31m     \u001b[0mplt\u001b[0m\u001b[0;34m.\u001b[0m\u001b[0mscatter\u001b[0m\u001b[0;34m(\u001b[0m\u001b[0msteps\u001b[0m\u001b[0;34m,\u001b[0m \u001b[0mval_history\u001b[0m\u001b[0;34m,\u001b[0m \u001b[0mmarker\u001b[0m\u001b[0;34m=\u001b[0m\u001b[0;34m'+'\u001b[0m\u001b[0;34m,\u001b[0m \u001b[0ms\u001b[0m\u001b[0;34m=\u001b[0m\u001b[0;36m180\u001b[0m\u001b[0;34m,\u001b[0m \u001b[0mc\u001b[0m\u001b[0;34m=\u001b[0m\u001b[0;34m'orange'\u001b[0m\u001b[0;34m,\u001b[0m \u001b[0mlabel\u001b[0m\u001b[0;34m=\u001b[0m\u001b[0;34m'val'\u001b[0m\u001b[0;34m,\u001b[0m \u001b[0mzorder\u001b[0m\u001b[0;34m=\u001b[0m\u001b[0;36m2\u001b[0m\u001b[0;34m)\u001b[0m\u001b[0;34m\u001b[0m\u001b[0;34m\u001b[0m\u001b[0m\n\u001b[0m\u001b[1;32m     10\u001b[0m     \u001b[0mplt\u001b[0m\u001b[0;34m.\u001b[0m\u001b[0mxlabel\u001b[0m\u001b[0;34m(\u001b[0m\u001b[0;34m'train steps'\u001b[0m\u001b[0;34m)\u001b[0m\u001b[0;34m\u001b[0m\u001b[0;34m\u001b[0m\u001b[0m\n\u001b[1;32m     11\u001b[0m \u001b[0;34m\u001b[0m\u001b[0m\n",
            "\u001b[0;32m/usr/local/lib/python3.7/dist-packages/matplotlib/pyplot.py\u001b[0m in \u001b[0;36mscatter\u001b[0;34m(x, y, s, c, marker, cmap, norm, vmin, vmax, alpha, linewidths, verts, edgecolors, plotnonfinite, data, **kwargs)\u001b[0m\n\u001b[1;32m   2814\u001b[0m         \u001b[0mverts\u001b[0m\u001b[0;34m=\u001b[0m\u001b[0mverts\u001b[0m\u001b[0;34m,\u001b[0m \u001b[0medgecolors\u001b[0m\u001b[0;34m=\u001b[0m\u001b[0medgecolors\u001b[0m\u001b[0;34m,\u001b[0m\u001b[0;34m\u001b[0m\u001b[0;34m\u001b[0m\u001b[0m\n\u001b[1;32m   2815\u001b[0m         plotnonfinite=plotnonfinite, **({\"data\": data} if data is not\n\u001b[0;32m-> 2816\u001b[0;31m         None else {}), **kwargs)\n\u001b[0m\u001b[1;32m   2817\u001b[0m     \u001b[0msci\u001b[0m\u001b[0;34m(\u001b[0m\u001b[0m__ret\u001b[0m\u001b[0;34m)\u001b[0m\u001b[0;34m\u001b[0m\u001b[0;34m\u001b[0m\u001b[0m\n\u001b[1;32m   2818\u001b[0m     \u001b[0;32mreturn\u001b[0m \u001b[0m__ret\u001b[0m\u001b[0;34m\u001b[0m\u001b[0;34m\u001b[0m\u001b[0m\n",
            "\u001b[0;32m/usr/local/lib/python3.7/dist-packages/matplotlib/__init__.py\u001b[0m in \u001b[0;36minner\u001b[0;34m(ax, data, *args, **kwargs)\u001b[0m\n\u001b[1;32m   1563\u001b[0m     \u001b[0;32mdef\u001b[0m \u001b[0minner\u001b[0m\u001b[0;34m(\u001b[0m\u001b[0max\u001b[0m\u001b[0;34m,\u001b[0m \u001b[0;34m*\u001b[0m\u001b[0margs\u001b[0m\u001b[0;34m,\u001b[0m \u001b[0mdata\u001b[0m\u001b[0;34m=\u001b[0m\u001b[0;32mNone\u001b[0m\u001b[0;34m,\u001b[0m \u001b[0;34m**\u001b[0m\u001b[0mkwargs\u001b[0m\u001b[0;34m)\u001b[0m\u001b[0;34m:\u001b[0m\u001b[0;34m\u001b[0m\u001b[0;34m\u001b[0m\u001b[0m\n\u001b[1;32m   1564\u001b[0m         \u001b[0;32mif\u001b[0m \u001b[0mdata\u001b[0m \u001b[0;32mis\u001b[0m \u001b[0;32mNone\u001b[0m\u001b[0;34m:\u001b[0m\u001b[0;34m\u001b[0m\u001b[0;34m\u001b[0m\u001b[0m\n\u001b[0;32m-> 1565\u001b[0;31m             \u001b[0;32mreturn\u001b[0m \u001b[0mfunc\u001b[0m\u001b[0;34m(\u001b[0m\u001b[0max\u001b[0m\u001b[0;34m,\u001b[0m \u001b[0;34m*\u001b[0m\u001b[0mmap\u001b[0m\u001b[0;34m(\u001b[0m\u001b[0msanitize_sequence\u001b[0m\u001b[0;34m,\u001b[0m \u001b[0margs\u001b[0m\u001b[0;34m)\u001b[0m\u001b[0;34m,\u001b[0m \u001b[0;34m**\u001b[0m\u001b[0mkwargs\u001b[0m\u001b[0;34m)\u001b[0m\u001b[0;34m\u001b[0m\u001b[0;34m\u001b[0m\u001b[0m\n\u001b[0m\u001b[1;32m   1566\u001b[0m \u001b[0;34m\u001b[0m\u001b[0m\n\u001b[1;32m   1567\u001b[0m         \u001b[0mbound\u001b[0m \u001b[0;34m=\u001b[0m \u001b[0mnew_sig\u001b[0m\u001b[0;34m.\u001b[0m\u001b[0mbind\u001b[0m\u001b[0;34m(\u001b[0m\u001b[0max\u001b[0m\u001b[0;34m,\u001b[0m \u001b[0;34m*\u001b[0m\u001b[0margs\u001b[0m\u001b[0;34m,\u001b[0m \u001b[0;34m**\u001b[0m\u001b[0mkwargs\u001b[0m\u001b[0;34m)\u001b[0m\u001b[0;34m\u001b[0m\u001b[0;34m\u001b[0m\u001b[0m\n",
            "\u001b[0;32m/usr/local/lib/python3.7/dist-packages/matplotlib/cbook/deprecation.py\u001b[0m in \u001b[0;36mwrapper\u001b[0;34m(*args, **kwargs)\u001b[0m\n\u001b[1;32m    356\u001b[0m                 \u001b[0;34mf\"%(removal)s.  If any parameter follows {name!r}, they \"\u001b[0m\u001b[0;34m\u001b[0m\u001b[0;34m\u001b[0m\u001b[0m\n\u001b[1;32m    357\u001b[0m                 f\"should be pass as keyword, not positionally.\")\n\u001b[0;32m--> 358\u001b[0;31m         \u001b[0;32mreturn\u001b[0m \u001b[0mfunc\u001b[0m\u001b[0;34m(\u001b[0m\u001b[0;34m*\u001b[0m\u001b[0margs\u001b[0m\u001b[0;34m,\u001b[0m \u001b[0;34m**\u001b[0m\u001b[0mkwargs\u001b[0m\u001b[0;34m)\u001b[0m\u001b[0;34m\u001b[0m\u001b[0;34m\u001b[0m\u001b[0m\n\u001b[0m\u001b[1;32m    359\u001b[0m \u001b[0;34m\u001b[0m\u001b[0m\n\u001b[1;32m    360\u001b[0m     \u001b[0;32mreturn\u001b[0m \u001b[0mwrapper\u001b[0m\u001b[0;34m\u001b[0m\u001b[0;34m\u001b[0m\u001b[0m\n",
            "\u001b[0;32m/usr/local/lib/python3.7/dist-packages/matplotlib/axes/_axes.py\u001b[0m in \u001b[0;36mscatter\u001b[0;34m(self, x, y, s, c, marker, cmap, norm, vmin, vmax, alpha, linewidths, verts, edgecolors, plotnonfinite, **kwargs)\u001b[0m\n\u001b[1;32m   4389\u001b[0m         \u001b[0my\u001b[0m \u001b[0;34m=\u001b[0m \u001b[0mnp\u001b[0m\u001b[0;34m.\u001b[0m\u001b[0mma\u001b[0m\u001b[0;34m.\u001b[0m\u001b[0mravel\u001b[0m\u001b[0;34m(\u001b[0m\u001b[0my\u001b[0m\u001b[0;34m)\u001b[0m\u001b[0;34m\u001b[0m\u001b[0;34m\u001b[0m\u001b[0m\n\u001b[1;32m   4390\u001b[0m         \u001b[0;32mif\u001b[0m \u001b[0mx\u001b[0m\u001b[0;34m.\u001b[0m\u001b[0msize\u001b[0m \u001b[0;34m!=\u001b[0m \u001b[0my\u001b[0m\u001b[0;34m.\u001b[0m\u001b[0msize\u001b[0m\u001b[0;34m:\u001b[0m\u001b[0;34m\u001b[0m\u001b[0;34m\u001b[0m\u001b[0m\n\u001b[0;32m-> 4391\u001b[0;31m             \u001b[0;32mraise\u001b[0m \u001b[0mValueError\u001b[0m\u001b[0;34m(\u001b[0m\u001b[0;34m\"x and y must be the same size\"\u001b[0m\u001b[0;34m)\u001b[0m\u001b[0;34m\u001b[0m\u001b[0;34m\u001b[0m\u001b[0m\n\u001b[0m\u001b[1;32m   4392\u001b[0m \u001b[0;34m\u001b[0m\u001b[0m\n\u001b[1;32m   4393\u001b[0m         \u001b[0;32mif\u001b[0m \u001b[0ms\u001b[0m \u001b[0;32mis\u001b[0m \u001b[0;32mNone\u001b[0m\u001b[0;34m:\u001b[0m\u001b[0;34m\u001b[0m\u001b[0;34m\u001b[0m\u001b[0m\n",
            "\u001b[0;31mValueError\u001b[0m: x and y must be the same size"
          ]
        },
        {
          "output_type": "display_data",
          "data": {
            "text/plain": [
              "<Figure size 432x288 with 1 Axes>"
            ],
            "image/png": "[encoded data removed]"
          },
          "metadata": {
            "needs_background": "light"
          }
        }
      ],
      "source": [
        "#train_loss_log, train_acc_log, val_loss_log, val_acc_log = train(model, criterion, optimizer, train_loader, valid_loader, 20, lr_scheduler)\n",
        "train_loss_log, train_acc_log = train(model, criterion, optimizer, train_loader, train_loader, 20, lr_scheduler)"
      ]
    },
    {
      "cell_type": "code",
      "execution_count": 18,
      "id": "42d2ca86",
      "metadata": {
        "id": "42d2ca86"
      },
      "outputs": [],
      "source": [
        "total_metric = []\n",
        "\n",
        "#for imgs, labels in valid_loader:\n",
        "#    imgs = imgs.cuda()\n",
        "#    labels = labels.cpu().detach().numpy()            \n",
        "#    pred = model(imgs)\n",
        "#    pred = pred.cpu().detach().numpy()    \n",
        "\n",
        "#    pred[:, :4] = pred[:, :4] * 10496\n",
        "#    pred[:, -1] = pred[:, -1] * 360\n",
        "\n",
        "#    labels[:, :4] = labels[:, :4] * 10496\n",
        "#    labels[:, -1] = labels[:, -1] * 360\n",
        "    \n",
        "#    for label, pr in zip(labels, pred):\n",
        "#        total_metric.append(compute_metric(label, pr))\n",
        "    \n",
        "#total_metric = np.mean(total_metric)\n",
        "#print('Valid metric:', total_metric)\n",
        "\n",
        "#Valid metric: 0.9801261833663446"
      ]
    },
    {
      "cell_type": "code",
      "execution_count": 19,
      "id": "a50d13b0",
      "metadata": {
        "id": "a50d13b0"
      },
      "outputs": [],
      "source": [
        "class TestImageDataset(Dataset):\n",
        "    def __init__(self, files, transform=None):\n",
        "\n",
        "        self.files = files\n",
        "        self.transform = transform\n",
        "\n",
        "    def __getitem__(self, idx):\n",
        "\n",
        "        image_name = self.files[idx]\n",
        "\n",
        "        # читаем картинку. read the image\n",
        "        image = cv2.imread(f\"drive/MyDrive/Colab Notebooks/db2022/content/test/{image_name}\")\n",
        "        image = cv2.cvtColor(image, cv2.COLOR_BGR2RGB)\n",
        "        image = Image.fromarray(image)\n",
        "        \n",
        "        # преобразуем, если нужно. transform it, if necessary\n",
        "        if self.transform:\n",
        "            image = self.transform(image)\n",
        "        \n",
        "        return image\n",
        "    \n",
        "    def __len__(self):\n",
        "        return len(self.files)"
      ]
    },
    {
      "cell_type": "code",
      "execution_count": 20,
      "id": "cf722bf0",
      "metadata": {
        "id": "cf722bf0"
      },
      "outputs": [],
      "source": [
        "test_images_dir = 'drive/MyDrive/Colab Notebooks/db2022/content/test/'\n",
        "\n",
        "for _, _, test_files in os.walk(test_images_dir):\n",
        "    \n",
        "    break\n",
        "\n",
        "test_dataset = TestImageDataset(test_files, valid_transform)\n",
        "\n",
        "test_loader = torch.utils.data.DataLoader(dataset=test_dataset,\n",
        "                                           batch_size= batch_size,\n",
        "                                           shuffle=True,\n",
        "                                           pin_memory=True,\n",
        "                                           num_workers=2\n",
        "                                           )"
      ]
    },
    {
      "cell_type": "code",
      "execution_count": 21,
      "id": "021b6d18",
      "metadata": {
        "id": "021b6d18"
      },
      "outputs": [],
      "source": [
        "indexes = [x.split('.')[0] for x in test_files]\n",
        "preds = []\n",
        "\n",
        "for imgs in test_loader:\n",
        "    imgs = imgs.cuda()            \n",
        "    pred = model(imgs)\n",
        "    pred = pred.cpu().detach().numpy()\n",
        "    pred[:, :4] = np.clip(pred[:, :4] * 10496, 0, 10496)\n",
        "    pred[:, -1] = np.clip(pred[:, -1] * 360, 0, 360)\n",
        "    preds.extend(list(pred))"
      ]
    },
    {
      "cell_type": "code",
      "execution_count": 22,
      "id": "c6af7a80",
      "metadata": {
        "id": "c6af7a80"
      },
      "outputs": [],
      "source": [
        "sub_dir = \"drive/MyDrive/Colab Notebooks/db2022/content/submission_m2_alld/\"\n",
        "if not os.path.exists(sub_dir):\n",
        "    os.makedirs(sub_dir)\n",
        "\n",
        "json_true = []\n",
        "\n",
        "for indx, pred in zip(indexes, preds):\n",
        "\n",
        "    pred = [int(x) for x in pred]\n",
        "\n",
        "    left_top = [pred[0], pred[1]]\n",
        "    right_top = [pred[2], pred[1]]\n",
        "    left_bottom = [pred[0], pred[3]]\n",
        "    right_bottom = [pred[2], pred[3]]\n",
        "        \n",
        "    res = {\n",
        "        'left_top': left_top,\n",
        "        'right_top': right_top,\n",
        "        'left_bottom': left_bottom,\n",
        "        'right_bottom': right_bottom,\n",
        "        'angle': pred[4]\n",
        "    }\n",
        "\n",
        "    with open(sub_dir+indx+'.json', 'w') as f:\n",
        "        json.dump(res, f)"
      ]
    }
  ],
  "metadata": {
    "kernelspec": {
      "display_name": "Python 3",
      "language": "python",
      "name": "python3"
    },
    "language_info": {
      "codemirror_mode": {
        "name": "ipython",
        "version": 3
      },
      "file_extension": ".py",
      "mimetype": "text/x-python",
      "name": "python",
      "nbconvert_exporter": "python",
      "pygments_lexer": "ipython3",
      "version": "3.8.1"
    },
    "colab": {
      "name": "db2022_baseline_lr_schedule_resnext50_32x4d_0.751117.ipynb",
      "provenance": [],
      "collapsed_sections": []
    },
    "accelerator": "GPU",
    "gpuClass": "standard",
    "widgets": {
      "application/vnd.jupyter.widget-state+json": {
        "69c46b9dc8f6403e84cf8041035614aa": {
          "model_module": "@jupyter-widgets/controls",
          "model_name": "HBoxModel",
          "model_module_version": "1.5.0",
          "state": {
            "_dom_classes": [],
            "_model_module": "@jupyter-widgets/controls",
            "_model_module_version": "1.5.0",
            "_model_name": "HBoxModel",
            "_view_count": null,
            "_view_module": "@jupyter-widgets/controls",
            "_view_module_version": "1.5.0",
            "_view_name": "HBoxView",
            "box_style": "",
            "children": [
              "IPY_MODEL_e2b06ce3c86e498c87fb13afe3b36d56",
              "IPY_MODEL_ff5ece39e87f4b74aebb15aa4a3a69e9",
              "IPY_MODEL_1650b229452e456d893cf3d2c3e3b59f"
            ],
            "layout": "IPY_MODEL_0064709471084dbf8367f45aeb71e9af"
          }
        },
        "e2b06ce3c86e498c87fb13afe3b36d56": {
          "model_module": "@jupyter-widgets/controls",
          "model_name": "HTMLModel",
          "model_module_version": "1.5.0",
          "state": {
            "_dom_classes": [],
            "_model_module": "@jupyter-widgets/controls",
            "_model_module_version": "1.5.0",
            "_model_name": "HTMLModel",
            "_view_count": null,
            "_view_module": "@jupyter-widgets/controls",
            "_view_module_version": "1.5.0",
            "_view_name": "HTMLView",
            "description": "",
            "description_tooltip": null,
            "layout": "IPY_MODEL_499707f141d9484cb90c0364a1324d85",
            "placeholder": "​",
            "style": "IPY_MODEL_2fff7a30f38348a491ad5c8d907e5bd6",
            "value": "100%"
          }
        },
        "ff5ece39e87f4b74aebb15aa4a3a69e9": {
          "model_module": "@jupyter-widgets/controls",
          "model_name": "FloatProgressModel",
          "model_module_version": "1.5.0",
          "state": {
            "_dom_classes": [],
            "_model_module": "@jupyter-widgets/controls",
            "_model_module_version": "1.5.0",
            "_model_name": "FloatProgressModel",
            "_view_count": null,
            "_view_module": "@jupyter-widgets/controls",
            "_view_module_version": "1.5.0",
            "_view_name": "ProgressView",
            "bar_style": "success",
            "description": "",
            "description_tooltip": null,
            "layout": "IPY_MODEL_4444d6c51d254c3c9aef31071b1f410c",
            "max": 100441675,
            "min": 0,
            "orientation": "horizontal",
            "style": "IPY_MODEL_f114b9e9b9d24d4cb66e5ff7d30a1cd6",
            "value": 100441675
          }
        },
        "1650b229452e456d893cf3d2c3e3b59f": {
          "model_module": "@jupyter-widgets/controls",
          "model_name": "HTMLModel",
          "model_module_version": "1.5.0",
          "state": {
            "_dom_classes": [],
            "_model_module": "@jupyter-widgets/controls",
            "_model_module_version": "1.5.0",
            "_model_name": "HTMLModel",
            "_view_count": null,
            "_view_module": "@jupyter-widgets/controls",
            "_view_module_version": "1.5.0",
            "_view_name": "HTMLView",
            "description": "",
            "description_tooltip": null,
            "layout": "IPY_MODEL_046efdb013e34a688bcf14f344cb7907",
            "placeholder": "​",
            "style": "IPY_MODEL_6163ff7fcc9f40138fa18ebeb0b81acd",
            "value": " 95.8M/95.8M [00:00&lt;00:00, 214MB/s]"
          }
        },
        "0064709471084dbf8367f45aeb71e9af": {
          "model_module": "@jupyter-widgets/base",
          "model_name": "LayoutModel",
          "model_module_version": "1.2.0",
          "state": {
            "_model_module": "@jupyter-widgets/base",
            "_model_module_version": "1.2.0",
            "_model_name": "LayoutModel",
            "_view_count": null,
            "_view_module": "@jupyter-widgets/base",
            "_view_module_version": "1.2.0",
            "_view_name": "LayoutView",
            "align_content": null,
            "align_items": null,
            "align_self": null,
            "border": null,
            "bottom": null,
            "display": null,
            "flex": null,
            "flex_flow": null,
            "grid_area": null,
            "grid_auto_columns": null,
            "grid_auto_flow": null,
            "grid_auto_rows": null,
            "grid_column": null,
            "grid_gap": null,
            "grid_row": null,
            "grid_template_areas": null,
            "grid_template_columns": null,
            "grid_template_rows": null,
            "height": null,
            "justify_content": null,
            "justify_items": null,
            "left": null,
            "margin": null,
            "max_height": null,
            "max_width": null,
            "min_height": null,
            "min_width": null,
            "object_fit": null,
            "object_position": null,
            "order": null,
            "overflow": null,
            "overflow_x": null,
            "overflow_y": null,
            "padding": null,
            "right": null,
            "top": null,
            "visibility": null,
            "width": null
          }
        },
        "499707f141d9484cb90c0364a1324d85": {
          "model_module": "@jupyter-widgets/base",
          "model_name": "LayoutModel",
          "model_module_version": "1.2.0",
          "state": {
            "_model_module": "@jupyter-widgets/base",
            "_model_module_version": "1.2.0",
            "_model_name": "LayoutModel",
            "_view_count": null,
            "_view_module": "@jupyter-widgets/base",
            "_view_module_version": "1.2.0",
            "_view_name": "LayoutView",
            "align_content": null,
            "align_items": null,
            "align_self": null,
            "border": null,
            "bottom": null,
            "display": null,
            "flex": null,
            "flex_flow": null,
            "grid_area": null,
            "grid_auto_columns": null,
            "grid_auto_flow": null,
            "grid_auto_rows": null,
            "grid_column": null,
            "grid_gap": null,
            "grid_row": null,
            "grid_template_areas": null,
            "grid_template_columns": null,
            "grid_template_rows": null,
            "height": null,
            "justify_content": null,
            "justify_items": null,
            "left": null,
            "margin": null,
            "max_height": null,
            "max_width": null,
            "min_height": null,
            "min_width": null,
            "object_fit": null,
            "object_position": null,
            "order": null,
            "overflow": null,
            "overflow_x": null,
            "overflow_y": null,
            "padding": null,
            "right": null,
            "top": null,
            "visibility": null,
            "width": null
          }
        },
        "2fff7a30f38348a491ad5c8d907e5bd6": {
          "model_module": "@jupyter-widgets/controls",
          "model_name": "DescriptionStyleModel",
          "model_module_version": "1.5.0",
          "state": {
            "_model_module": "@jupyter-widgets/controls",
            "_model_module_version": "1.5.0",
            "_model_name": "DescriptionStyleModel",
            "_view_count": null,
            "_view_module": "@jupyter-widgets/base",
            "_view_module_version": "1.2.0",
            "_view_name": "StyleView",
            "description_width": ""
          }
        },
        "4444d6c51d254c3c9aef31071b1f410c": {
          "model_module": "@jupyter-widgets/base",
          "model_name": "LayoutModel",
          "model_module_version": "1.2.0",
          "state": {
            "_model_module": "@jupyter-widgets/base",
            "_model_module_version": "1.2.0",
            "_model_name": "LayoutModel",
            "_view_count": null,
            "_view_module": "@jupyter-widgets/base",
            "_view_module_version": "1.2.0",
            "_view_name": "LayoutView",
            "align_content": null,
            "align_items": null,
            "align_self": null,
            "border": null,
            "bottom": null,
            "display": null,
            "flex": null,
            "flex_flow": null,
            "grid_area": null,
            "grid_auto_columns": null,
            "grid_auto_flow": null,
            "grid_auto_rows": null,
            "grid_column": null,
            "grid_gap": null,
            "grid_row": null,
            "grid_template_areas": null,
            "grid_template_columns": null,
            "grid_template_rows": null,
            "height": null,
            "justify_content": null,
            "justify_items": null,
            "left": null,
            "margin": null,
            "max_height": null,
            "max_width": null,
            "min_height": null,
            "min_width": null,
            "object_fit": null,
            "object_position": null,
            "order": null,
            "overflow": null,
            "overflow_x": null,
            "overflow_y": null,
            "padding": null,
            "right": null,
            "top": null,
            "visibility": null,
            "width": null
          }
        },
        "f114b9e9b9d24d4cb66e5ff7d30a1cd6": {
          "model_module": "@jupyter-widgets/controls",
          "model_name": "ProgressStyleModel",
          "model_module_version": "1.5.0",
          "state": {
            "_model_module": "@jupyter-widgets/controls",
            "_model_module_version": "1.5.0",
            "_model_name": "ProgressStyleModel",
            "_view_count": null,
            "_view_module": "@jupyter-widgets/base",
            "_view_module_version": "1.2.0",
            "_view_name": "StyleView",
            "bar_color": null,
            "description_width": ""
          }
        },
        "046efdb013e34a688bcf14f344cb7907": {
          "model_module": "@jupyter-widgets/base",
          "model_name": "LayoutModel",
          "model_module_version": "1.2.0",
          "state": {
            "_model_module": "@jupyter-widgets/base",
            "_model_module_version": "1.2.0",
            "_model_name": "LayoutModel",
            "_view_count": null,
            "_view_module": "@jupyter-widgets/base",
            "_view_module_version": "1.2.0",
            "_view_name": "LayoutView",
            "align_content": null,
            "align_items": null,
            "align_self": null,
            "border": null,
            "bottom": null,
            "display": null,
            "flex": null,
            "flex_flow": null,
            "grid_area": null,
            "grid_auto_columns": null,
            "grid_auto_flow": null,
            "grid_auto_rows": null,
            "grid_column": null,
            "grid_gap": null,
            "grid_row": null,
            "grid_template_areas": null,
            "grid_template_columns": null,
            "grid_template_rows": null,
            "height": null,
            "justify_content": null,
            "justify_items": null,
            "left": null,
            "margin": null,
            "max_height": null,
            "max_width": null,
            "min_height": null,
            "min_width": null,
            "object_fit": null,
            "object_position": null,
            "order": null,
            "overflow": null,
            "overflow_x": null,
            "overflow_y": null,
            "padding": null,
            "right": null,
            "top": null,
            "visibility": null,
            "width": null
          }
        },
        "6163ff7fcc9f40138fa18ebeb0b81acd": {
          "model_module": "@jupyter-widgets/controls",
          "model_name": "DescriptionStyleModel",
          "model_module_version": "1.5.0",
          "state": {
            "_model_module": "@jupyter-widgets/controls",
            "_model_module_version": "1.5.0",
            "_model_name": "DescriptionStyleModel",
            "_view_count": null,
            "_view_module": "@jupyter-widgets/base",
            "_view_module_version": "1.2.0",
            "_view_name": "StyleView",
            "description_width": ""
          }
        }
      }
    }
  },
  "nbformat": 4,
  "nbformat_minor": 5
}